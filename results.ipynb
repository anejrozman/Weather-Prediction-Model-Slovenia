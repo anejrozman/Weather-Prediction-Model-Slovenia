{
 "cells": [
  {
   "cell_type": "markdown",
   "metadata": {},
   "source": [
    "## TEMPERATURE PREDICTION MODEL FOR SLOVENIA"
   ]
  },
  {
   "cell_type": "markdown",
   "metadata": {},
   "source": [
    "This notebook, when ran, collects weather data from https://meteo.arso.gov.si/ which is the national weather website for Slovenia. It tries to predict the future temperatures for main Slovenian regions. "
   ]
  },
  {
   "cell_type": "markdown",
   "metadata": {},
   "source": [
    "MOTIVATION\n",
    "The project was conceived for a couple of reasons. I aimed to challenge myself in the realm of web scraping, and ARSO proved to be just the right level of complexity given my current skillset. Additionally, I sought to develop a relatively straightforward prediction model and perform elementary data analysis to hone my skills outside of my current job. The final source of motivation was the requirement to create a project for the UVP course at the Faculty of Mathematics and Physics at the University of Ljubljana.\n",
    "\n",
    "EXTRA FILES\n",
    "Besides this notebook, there are two files that are used:\n",
    "- `data.py` is a web scraper file. When run, it fetches weather data from ARSO for the main Slovenian regions (Nova Gorica, Ljubljana, Murska Sobota, Portorož, Celje, Novo Mesto, Jesenice). It collects the last month and a half of weather data from the last 3 years. It also fetches test data (the last 48 hours for each region) used to determine the best model for the final prediction.\n",
    "- `analysis.py` contains functions that I use in this notebook for visualization and data analysis. There are many functions, and they will be explained as they are used.\n",
    "\n",
    "OVERVIEW\n",
    "The main idea for my prediction model (linear regression) is to use the last 3 years of weather data from the same time period, as weather can change suddenly. The summer of 2023 is a great example of this. In Slovenia, July was colder with lots of rain, while August turned out to be a proper dry and hot summer month. If, for example, I only took data from 2023 and tried to predict the temperature at the beginning of August, the model would likely perform poorly. For the final prediction, I select the model with the lowest mean squared score out of the 3.\n",
    "\n",
    "When possible, I will be describing the analysis for NOVA GORICA since it is my hometown. The same approach is applied to any specific region.\n"
   ]
  },
  {
   "cell_type": "code",
   "execution_count": 1,
   "metadata": {},
   "outputs": [],
   "source": [
    "import data as da\n",
    "import analysis as an\n",
    "import datetime as dt\n",
    "import pandas as pd"
   ]
  },
  {
   "cell_type": "markdown",
   "metadata": {},
   "source": [
    "To import all data, it usually takes around 2-3 minutes.\n",
    "\n",
    "**DISCLAIMER!**\n",
    "While testing, I found that it is possible for there to be an error while fetching data (likely a network error, but I'm not entirely sure). In such cases, I suggest running the file again after a couple of minutes. There is also an optional parameter `PAUSE` in `data.py` for pausing during each iteration of data collection. If the problem persists, follow the link in the error message to check if there's an issue with the response or the received data (it could be corrupted or not properly formatted, leading to an error in my parsing of the data).\n"
   ]
  },
  {
   "cell_type": "code",
   "execution_count": 2,
   "metadata": {},
   "outputs": [],
   "source": [
    "# fetch data from ARSO with data.py\n",
    "train_data, test_data = da.main()"
   ]
  },
  {
   "cell_type": "markdown",
   "metadata": {},
   "source": [
    "With no other modifications except adding column names the data looks like this."
   ]
  },
  {
   "cell_type": "code",
   "execution_count": 3,
   "metadata": {},
   "outputs": [
    {
     "data": {
      "text/html": [
       "<div>\n",
       "<style scoped>\n",
       "    .dataframe tbody tr th:only-of-type {\n",
       "        vertical-align: middle;\n",
       "    }\n",
       "\n",
       "    .dataframe tbody tr th {\n",
       "        vertical-align: top;\n",
       "    }\n",
       "\n",
       "    .dataframe thead th {\n",
       "        text-align: right;\n",
       "    }\n",
       "</style>\n",
       "<table border=\"1\" class=\"dataframe\">\n",
       "  <thead>\n",
       "    <tr style=\"text-align: right;\">\n",
       "      <th></th>\n",
       "      <th>temp</th>\n",
       "      <th>moisture</th>\n",
       "      <th>rain</th>\n",
       "      <th>wind_speed</th>\n",
       "      <th>wind_dir</th>\n",
       "      <th>pressure</th>\n",
       "    </tr>\n",
       "  </thead>\n",
       "  <tbody>\n",
       "    <tr>\n",
       "      <th>_117563040</th>\n",
       "      <td>24.9</td>\n",
       "      <td>65</td>\n",
       "      <td>0</td>\n",
       "      <td>0.4</td>\n",
       "      <td>73.1</td>\n",
       "      <td>0.8</td>\n",
       "    </tr>\n",
       "    <tr>\n",
       "      <th>_117563050</th>\n",
       "      <td>24.9</td>\n",
       "      <td>66</td>\n",
       "      <td>NaN</td>\n",
       "      <td>0.5</td>\n",
       "      <td>145.3</td>\n",
       "      <td>1</td>\n",
       "    </tr>\n",
       "    <tr>\n",
       "      <th>_117563060</th>\n",
       "      <td>24.8</td>\n",
       "      <td>66</td>\n",
       "      <td>NaN</td>\n",
       "      <td>0.8</td>\n",
       "      <td>149.1</td>\n",
       "      <td>1.2</td>\n",
       "    </tr>\n",
       "    <tr>\n",
       "      <th>_117563070</th>\n",
       "      <td>24.7</td>\n",
       "      <td>67</td>\n",
       "      <td>0</td>\n",
       "      <td>1.1</td>\n",
       "      <td>132</td>\n",
       "      <td>1.3</td>\n",
       "    </tr>\n",
       "    <tr>\n",
       "      <th>_117563080</th>\n",
       "      <td>24.6</td>\n",
       "      <td>68</td>\n",
       "      <td>NaN</td>\n",
       "      <td>0.4</td>\n",
       "      <td>109.6</td>\n",
       "      <td>0.7</td>\n",
       "    </tr>\n",
       "    <tr>\n",
       "      <th>_117563090</th>\n",
       "      <td>24.4</td>\n",
       "      <td>69</td>\n",
       "      <td>NaN</td>\n",
       "      <td>0.6</td>\n",
       "      <td>114.6</td>\n",
       "      <td>0.9</td>\n",
       "    </tr>\n",
       "    <tr>\n",
       "      <th>_117563100</th>\n",
       "      <td>24.1</td>\n",
       "      <td>69</td>\n",
       "      <td>0</td>\n",
       "      <td>1</td>\n",
       "      <td>149.7</td>\n",
       "      <td>1.4</td>\n",
       "    </tr>\n",
       "    <tr>\n",
       "      <th>_117563110</th>\n",
       "      <td>23.9</td>\n",
       "      <td>68</td>\n",
       "      <td>NaN</td>\n",
       "      <td>1.6</td>\n",
       "      <td>112.9</td>\n",
       "      <td>1.9</td>\n",
       "    </tr>\n",
       "  </tbody>\n",
       "</table>\n",
       "</div>"
      ],
      "text/plain": [
       "            temp moisture rain wind_speed wind_dir pressure\n",
       "_117563040  24.9       65    0        0.4     73.1      0.8\n",
       "_117563050  24.9       66  NaN        0.5    145.3        1\n",
       "_117563060  24.8       66  NaN        0.8    149.1      1.2\n",
       "_117563070  24.7       67    0        1.1      132      1.3\n",
       "_117563080  24.6       68  NaN        0.4    109.6      0.7\n",
       "_117563090  24.4       69  NaN        0.6    114.6      0.9\n",
       "_117563100  24.1       69    0          1    149.7      1.4\n",
       "_117563110  23.9       68  NaN        1.6    112.9      1.9"
      ]
     },
     "execution_count": 3,
     "metadata": {},
     "output_type": "execute_result"
    }
   ],
   "source": [
    "train_data['NG0'].head(8)"
   ]
  },
  {
   "cell_type": "code",
   "execution_count": 4,
   "metadata": {},
   "outputs": [
    {
     "data": {
      "text/html": [
       "<div>\n",
       "<style scoped>\n",
       "    .dataframe tbody tr th:only-of-type {\n",
       "        vertical-align: middle;\n",
       "    }\n",
       "\n",
       "    .dataframe tbody tr th {\n",
       "        vertical-align: top;\n",
       "    }\n",
       "\n",
       "    .dataframe thead th {\n",
       "        text-align: right;\n",
       "    }\n",
       "</style>\n",
       "<table border=\"1\" class=\"dataframe\">\n",
       "  <thead>\n",
       "    <tr style=\"text-align: right;\">\n",
       "      <th></th>\n",
       "      <th>temp</th>\n",
       "      <th>moisture</th>\n",
       "      <th>wind_speed</th>\n",
       "      <th>wind_dir</th>\n",
       "      <th>rain</th>\n",
       "    </tr>\n",
       "  </thead>\n",
       "  <tbody>\n",
       "    <tr>\n",
       "      <th>0</th>\n",
       "      <td>27.4</td>\n",
       "      <td>58</td>\n",
       "      <td>2</td>\n",
       "      <td>270</td>\n",
       "      <td>0</td>\n",
       "    </tr>\n",
       "    <tr>\n",
       "      <th>0</th>\n",
       "      <td>27.6</td>\n",
       "      <td>57</td>\n",
       "      <td>5</td>\n",
       "      <td>315</td>\n",
       "      <td>0</td>\n",
       "    </tr>\n",
       "    <tr>\n",
       "      <th>0</th>\n",
       "      <td>28</td>\n",
       "      <td>55</td>\n",
       "      <td>3</td>\n",
       "      <td>315</td>\n",
       "      <td>0</td>\n",
       "    </tr>\n",
       "    <tr>\n",
       "      <th>0</th>\n",
       "      <td>28.4</td>\n",
       "      <td>56</td>\n",
       "      <td>4</td>\n",
       "      <td>315</td>\n",
       "      <td>0</td>\n",
       "    </tr>\n",
       "    <tr>\n",
       "      <th>0</th>\n",
       "      <td>28.5</td>\n",
       "      <td>54</td>\n",
       "      <td>5</td>\n",
       "      <td>315</td>\n",
       "      <td>0</td>\n",
       "    </tr>\n",
       "    <tr>\n",
       "      <th>0</th>\n",
       "      <td>28.9</td>\n",
       "      <td>54</td>\n",
       "      <td>5</td>\n",
       "      <td>315</td>\n",
       "      <td>0</td>\n",
       "    </tr>\n",
       "    <tr>\n",
       "      <th>0</th>\n",
       "      <td>29.1</td>\n",
       "      <td>53</td>\n",
       "      <td>4</td>\n",
       "      <td>315</td>\n",
       "      <td>0</td>\n",
       "    </tr>\n",
       "    <tr>\n",
       "      <th>0</th>\n",
       "      <td>29.2</td>\n",
       "      <td>52</td>\n",
       "      <td>4</td>\n",
       "      <td>315</td>\n",
       "      <td>0</td>\n",
       "    </tr>\n",
       "  </tbody>\n",
       "</table>\n",
       "</div>"
      ],
      "text/plain": [
       "   temp moisture wind_speed wind_dir rain\n",
       "0  27.4       58          2      270    0\n",
       "0  27.6       57          5      315    0\n",
       "0    28       55          3      315    0\n",
       "0  28.4       56          4      315    0\n",
       "0  28.5       54          5      315    0\n",
       "0  28.9       54          5      315    0\n",
       "0  29.1       53          4      315    0\n",
       "0  29.2       52          4      315    0"
      ]
     },
     "execution_count": 4,
     "metadata": {},
     "output_type": "execute_result"
    }
   ],
   "source": [
    "test_data['NG'].head(8)"
   ]
  },
  {
   "cell_type": "markdown",
   "metadata": {},
   "source": [
    "Since there aren't many missing values we can just forward fill (and then backfill for completeness)."
   ]
  },
  {
   "cell_type": "code",
   "execution_count": 5,
   "metadata": {},
   "outputs": [],
   "source": [
    "train_data, test_data = an.fill_na(train_data, test_data)"
   ]
  },
  {
   "cell_type": "markdown",
   "metadata": {},
   "source": [
    "The relationships between different variables aren't the best. We can see a clear linear dependence between temperature and moisture, but the other vairables don't exhibit any type of linear relationship."
   ]
  },
  {
   "cell_type": "code",
   "execution_count": 6,
   "metadata": {},
   "outputs": [
    {
     "data": {
      "image/png": "[encoded data removed]",
      "text/plain": [
       "<Figure size 1000x800 with 4 Axes>"
      ]
     },
     "metadata": {},
     "output_type": "display_data"
    }
   ],
   "source": [
    "an.show_dependence(train_data, 'NG0')"
   ]
  },
  {
   "cell_type": "markdown",
   "metadata": {},
   "source": [
    "The correlation between variables (as it is expected from the relationship plots) isn't the best either."
   ]
  },
  {
   "cell_type": "code",
   "execution_count": 7,
   "metadata": {},
   "outputs": [
    {
     "data": {
      "application/vnd.plotly.v1+json": {
       "config": {
        "plotlyServerURL": "https://plot.ly"
       },
       "data": [
        {
         "coloraxis": "coloraxis",
         "hovertemplate": "x: %{x}<br>y: %{y}<br>color: %{z}<extra></extra>",
         "name": "0",
         "type": "heatmap",
         "x": [
          "temp",
          "moisture",
          "rain",
          "wind_speed",
          "wind_dir",
          "pressure"
         ],
         "xaxis": "x",
         "y": [
          "temp",
          "moisture",
          "rain",
          "wind_speed",
          "wind_dir",
          "pressure"
         ],
         "yaxis": "y",
         "z": [
          [
           1,
           -0.8776710688049684,
           -0.11844946683765992,
           0.34647554388501317,
           0.2712480264332234,
           0.3470019014786869
          ],
          [
           -0.8776710688049684,
           1,
           0.16927199720151956,
           -0.34769740221198087,
           -0.267851247736772,
           -0.35142957250468565
          ],
          [
           -0.11844946683765992,
           0.16927199720151956,
           1,
           0.09207119282820347,
           0.006119422887314381,
           0.1313699596883918
          ],
          [
           0.34647554388501317,
           -0.34769740221198087,
           0.09207119282820347,
           1,
           0.09389869111330913,
           0.9283627514002281
          ],
          [
           0.2712480264332234,
           -0.267851247736772,
           0.006119422887314381,
           0.09389869111330913,
           1,
           0.14399937424968345
          ],
          [
           0.3470019014786869,
           -0.35142957250468565,
           0.1313699596883918,
           0.9283627514002281,
           0.14399937424968345,
           1
          ]
         ]
        }
       ],
       "layout": {
        "coloraxis": {
         "colorscale": [
          [
           0,
           "#0d0887"
          ],
          [
           0.1111111111111111,
           "#46039f"
          ],
          [
           0.2222222222222222,
           "#7201a8"
          ],
          [
           0.3333333333333333,
           "#9c179e"
          ],
          [
           0.4444444444444444,
           "#bd3786"
          ],
          [
           0.5555555555555556,
           "#d8576b"
          ],
          [
           0.6666666666666666,
           "#ed7953"
          ],
          [
           0.7777777777777778,
           "#fb9f3a"
          ],
          [
           0.8888888888888888,
           "#fdca26"
          ],
          [
           1,
           "#f0f921"
          ]
         ]
        },
        "margin": {
         "t": 60
        },
        "template": {
         "data": {
          "bar": [
           {
            "error_x": {
             "color": "#2a3f5f"
            },
            "error_y": {
             "color": "#2a3f5f"
            },
            "marker": {
             "line": {
              "color": "#E5ECF6",
              "width": 0.5
             },
             "pattern": {
              "fillmode": "overlay",
              "size": 10,
              "solidity": 0.2
             }
            },
            "type": "bar"
           }
          ],
          "barpolar": [
           {
            "marker": {
             "line": {
              "color": "#E5ECF6",
              "width": 0.5
             },
             "pattern": {
              "fillmode": "overlay",
              "size": 10,
              "solidity": 0.2
             }
            },
            "type": "barpolar"
           }
          ],
          "carpet": [
           {
            "aaxis": {
             "endlinecolor": "#2a3f5f",
             "gridcolor": "white",
             "linecolor": "white",
             "minorgridcolor": "white",
             "startlinecolor": "#2a3f5f"
            },
            "baxis": {
             "endlinecolor": "#2a3f5f",
             "gridcolor": "white",
             "linecolor": "white",
             "minorgridcolor": "white",
             "startlinecolor": "#2a3f5f"
            },
            "type": "carpet"
           }
          ],
          "choropleth": [
           {
            "colorbar": {
             "outlinewidth": 0,
             "ticks": ""
            },
            "type": "choropleth"
           }
          ],
          "contour": [
           {
            "colorbar": {
             "outlinewidth": 0,
             "ticks": ""
            },
            "colorscale": [
             [
              0,
              "#0d0887"
             ],
             [
              0.1111111111111111,
              "#46039f"
             ],
             [
              0.2222222222222222,
              "#7201a8"
             ],
             [
              0.3333333333333333,
              "#9c179e"
             ],
             [
              0.4444444444444444,
              "#bd3786"
             ],
             [
              0.5555555555555556,
              "#d8576b"
             ],
             [
              0.6666666666666666,
              "#ed7953"
             ],
             [
              0.7777777777777778,
              "#fb9f3a"
             ],
             [
              0.8888888888888888,
              "#fdca26"
             ],
             [
              1,
              "#f0f921"
             ]
            ],
            "type": "contour"
           }
          ],
          "contourcarpet": [
           {
            "colorbar": {
             "outlinewidth": 0,
             "ticks": ""
            },
            "type": "contourcarpet"
           }
          ],
          "heatmap": [
           {
            "colorbar": {
             "outlinewidth": 0,
             "ticks": ""
            },
            "colorscale": [
             [
              0,
              "#0d0887"
             ],
             [
              0.1111111111111111,
              "#46039f"
             ],
             [
              0.2222222222222222,
              "#7201a8"
             ],
             [
              0.3333333333333333,
              "#9c179e"
             ],
             [
              0.4444444444444444,
              "#bd3786"
             ],
             [
              0.5555555555555556,
              "#d8576b"
             ],
             [
              0.6666666666666666,
              "#ed7953"
             ],
             [
              0.7777777777777778,
              "#fb9f3a"
             ],
             [
              0.8888888888888888,
              "#fdca26"
             ],
             [
              1,
              "#f0f921"
             ]
            ],
            "type": "heatmap"
           }
          ],
          "heatmapgl": [
           {
            "colorbar": {
             "outlinewidth": 0,
             "ticks": ""
            },
            "colorscale": [
             [
              0,
              "#0d0887"
             ],
             [
              0.1111111111111111,
              "#46039f"
             ],
             [
              0.2222222222222222,
              "#7201a8"
             ],
             [
              0.3333333333333333,
              "#9c179e"
             ],
             [
              0.4444444444444444,
              "#bd3786"
             ],
             [
              0.5555555555555556,
              "#d8576b"
             ],
             [
              0.6666666666666666,
              "#ed7953"
             ],
             [
              0.7777777777777778,
              "#fb9f3a"
             ],
             [
              0.8888888888888888,
              "#fdca26"
             ],
             [
              1,
              "#f0f921"
             ]
            ],
            "type": "heatmapgl"
           }
          ],
          "histogram": [
           {
            "marker": {
             "pattern": {
              "fillmode": "overlay",
              "size": 10,
              "solidity": 0.2
             }
            },
            "type": "histogram"
           }
          ],
          "histogram2d": [
           {
            "colorbar": {
             "outlinewidth": 0,
             "ticks": ""
            },
            "colorscale": [
             [
              0,
              "#0d0887"
             ],
             [
              0.1111111111111111,
              "#46039f"
             ],
             [
              0.2222222222222222,
              "#7201a8"
             ],
             [
              0.3333333333333333,
              "#9c179e"
             ],
             [
              0.4444444444444444,
              "#bd3786"
             ],
             [
              0.5555555555555556,
              "#d8576b"
             ],
             [
              0.6666666666666666,
              "#ed7953"
             ],
             [
              0.7777777777777778,
              "#fb9f3a"
             ],
             [
              0.8888888888888888,
              "#fdca26"
             ],
             [
              1,
              "#f0f921"
             ]
            ],
            "type": "histogram2d"
           }
          ],
          "histogram2dcontour": [
           {
            "colorbar": {
             "outlinewidth": 0,
             "ticks": ""
            },
            "colorscale": [
             [
              0,
              "#0d0887"
             ],
             [
              0.1111111111111111,
              "#46039f"
             ],
             [
              0.2222222222222222,
              "#7201a8"
             ],
             [
              0.3333333333333333,
              "#9c179e"
             ],
             [
              0.4444444444444444,
              "#bd3786"
             ],
             [
              0.5555555555555556,
              "#d8576b"
             ],
             [
              0.6666666666666666,
              "#ed7953"
             ],
             [
              0.7777777777777778,
              "#fb9f3a"
             ],
             [
              0.8888888888888888,
              "#fdca26"
             ],
             [
              1,
              "#f0f921"
             ]
            ],
            "type": "histogram2dcontour"
           }
          ],
          "mesh3d": [
           {
            "colorbar": {
             "outlinewidth": 0,
             "ticks": ""
            },
            "type": "mesh3d"
           }
          ],
          "parcoords": [
           {
            "line": {
             "colorbar": {
              "outlinewidth": 0,
              "ticks": ""
             }
            },
            "type": "parcoords"
           }
          ],
          "pie": [
           {
            "automargin": true,
            "type": "pie"
           }
          ],
          "scatter": [
           {
            "fillpattern": {
             "fillmode": "overlay",
             "size": 10,
             "solidity": 0.2
            },
            "type": "scatter"
           }
          ],
          "scatter3d": [
           {
            "line": {
             "colorbar": {
              "outlinewidth": 0,
              "ticks": ""
             }
            },
            "marker": {
             "colorbar": {
              "outlinewidth": 0,
              "ticks": ""
             }
            },
            "type": "scatter3d"
           }
          ],
          "scattercarpet": [
           {
            "marker": {
             "colorbar": {
              "outlinewidth": 0,
              "ticks": ""
             }
            },
            "type": "scattercarpet"
           }
          ],
          "scattergeo": [
           {
            "marker": {
             "colorbar": {
              "outlinewidth": 0,
              "ticks": ""
             }
            },
            "type": "scattergeo"
           }
          ],
          "scattergl": [
           {
            "marker": {
             "colorbar": {
              "outlinewidth": 0,
              "ticks": ""
             }
            },
            "type": "scattergl"
           }
          ],
          "scattermapbox": [
           {
            "marker": {
             "colorbar": {
              "outlinewidth": 0,
              "ticks": ""
             }
            },
            "type": "scattermapbox"
           }
          ],
          "scatterpolar": [
           {
            "marker": {
             "colorbar": {
              "outlinewidth": 0,
              "ticks": ""
             }
            },
            "type": "scatterpolar"
           }
          ],
          "scatterpolargl": [
           {
            "marker": {
             "colorbar": {
              "outlinewidth": 0,
              "ticks": ""
             }
            },
            "type": "scatterpolargl"
           }
          ],
          "scatterternary": [
           {
            "marker": {
             "colorbar": {
              "outlinewidth": 0,
              "ticks": ""
             }
            },
            "type": "scatterternary"
           }
          ],
          "surface": [
           {
            "colorbar": {
             "outlinewidth": 0,
             "ticks": ""
            },
            "colorscale": [
             [
              0,
              "#0d0887"
             ],
             [
              0.1111111111111111,
              "#46039f"
             ],
             [
              0.2222222222222222,
              "#7201a8"
             ],
             [
              0.3333333333333333,
              "#9c179e"
             ],
             [
              0.4444444444444444,
              "#bd3786"
             ],
             [
              0.5555555555555556,
              "#d8576b"
             ],
             [
              0.6666666666666666,
              "#ed7953"
             ],
             [
              0.7777777777777778,
              "#fb9f3a"
             ],
             [
              0.8888888888888888,
              "#fdca26"
             ],
             [
              1,
              "#f0f921"
             ]
            ],
            "type": "surface"
           }
          ],
          "table": [
           {
            "cells": {
             "fill": {
              "color": "#EBF0F8"
             },
             "line": {
              "color": "white"
             }
            },
            "header": {
             "fill": {
              "color": "#C8D4E3"
             },
             "line": {
              "color": "white"
             }
            },
            "type": "table"
           }
          ]
         },
         "layout": {
          "annotationdefaults": {
           "arrowcolor": "#2a3f5f",
           "arrowhead": 0,
           "arrowwidth": 1
          },
          "autotypenumbers": "strict",
          "coloraxis": {
           "colorbar": {
            "outlinewidth": 0,
            "ticks": ""
           }
          },
          "colorscale": {
           "diverging": [
            [
             0,
             "#8e0152"
            ],
            [
             0.1,
             "#c51b7d"
            ],
            [
             0.2,
             "#de77ae"
            ],
            [
             0.3,
             "#f1b6da"
            ],
            [
             0.4,
             "#fde0ef"
            ],
            [
             0.5,
             "#f7f7f7"
            ],
            [
             0.6,
             "#e6f5d0"
            ],
            [
             0.7,
             "#b8e186"
            ],
            [
             0.8,
             "#7fbc41"
            ],
            [
             0.9,
             "#4d9221"
            ],
            [
             1,
             "#276419"
            ]
           ],
           "sequential": [
            [
             0,
             "#0d0887"
            ],
            [
             0.1111111111111111,
             "#46039f"
            ],
            [
             0.2222222222222222,
             "#7201a8"
            ],
            [
             0.3333333333333333,
             "#9c179e"
            ],
            [
             0.4444444444444444,
             "#bd3786"
            ],
            [
             0.5555555555555556,
             "#d8576b"
            ],
            [
             0.6666666666666666,
             "#ed7953"
            ],
            [
             0.7777777777777778,
             "#fb9f3a"
            ],
            [
             0.8888888888888888,
             "#fdca26"
            ],
            [
             1,
             "#f0f921"
            ]
           ],
           "sequentialminus": [
            [
             0,
             "#0d0887"
            ],
            [
             0.1111111111111111,
             "#46039f"
            ],
            [
             0.2222222222222222,
             "#7201a8"
            ],
            [
             0.3333333333333333,
             "#9c179e"
            ],
            [
             0.4444444444444444,
             "#bd3786"
            ],
            [
             0.5555555555555556,
             "#d8576b"
            ],
            [
             0.6666666666666666,
             "#ed7953"
            ],
            [
             0.7777777777777778,
             "#fb9f3a"
            ],
            [
             0.8888888888888888,
             "#fdca26"
            ],
            [
             1,
             "#f0f921"
            ]
           ]
          },
          "colorway": [
           "#636efa",
           "#EF553B",
           "#00cc96",
           "#ab63fa",
           "#FFA15A",
           "#19d3f3",
           "#FF6692",
           "#B6E880",
           "#FF97FF",
           "#FECB52"
          ],
          "font": {
           "color": "#2a3f5f"
          },
          "geo": {
           "bgcolor": "white",
           "lakecolor": "white",
           "landcolor": "#E5ECF6",
           "showlakes": true,
           "showland": true,
           "subunitcolor": "white"
          },
          "hoverlabel": {
           "align": "left"
          },
          "hovermode": "closest",
          "mapbox": {
           "style": "light"
          },
          "paper_bgcolor": "white",
          "plot_bgcolor": "#E5ECF6",
          "polar": {
           "angularaxis": {
            "gridcolor": "white",
            "linecolor": "white",
            "ticks": ""
           },
           "bgcolor": "#E5ECF6",
           "radialaxis": {
            "gridcolor": "white",
            "linecolor": "white",
            "ticks": ""
           }
          },
          "scene": {
           "xaxis": {
            "backgroundcolor": "#E5ECF6",
            "gridcolor": "white",
            "gridwidth": 2,
            "linecolor": "white",
            "showbackground": true,
            "ticks": "",
            "zerolinecolor": "white"
           },
           "yaxis": {
            "backgroundcolor": "#E5ECF6",
            "gridcolor": "white",
            "gridwidth": 2,
            "linecolor": "white",
            "showbackground": true,
            "ticks": "",
            "zerolinecolor": "white"
           },
           "zaxis": {
            "backgroundcolor": "#E5ECF6",
            "gridcolor": "white",
            "gridwidth": 2,
            "linecolor": "white",
            "showbackground": true,
            "ticks": "",
            "zerolinecolor": "white"
           }
          },
          "shapedefaults": {
           "line": {
            "color": "#2a3f5f"
           }
          },
          "ternary": {
           "aaxis": {
            "gridcolor": "white",
            "linecolor": "white",
            "ticks": ""
           },
           "baxis": {
            "gridcolor": "white",
            "linecolor": "white",
            "ticks": ""
           },
           "bgcolor": "#E5ECF6",
           "caxis": {
            "gridcolor": "white",
            "linecolor": "white",
            "ticks": ""
           }
          },
          "title": {
           "x": 0.05
          },
          "xaxis": {
           "automargin": true,
           "gridcolor": "white",
           "linecolor": "white",
           "ticks": "",
           "title": {
            "standoff": 15
           },
           "zerolinecolor": "white",
           "zerolinewidth": 2
          },
          "yaxis": {
           "automargin": true,
           "gridcolor": "white",
           "linecolor": "white",
           "ticks": "",
           "title": {
            "standoff": 15
           },
           "zerolinecolor": "white",
           "zerolinewidth": 2
          }
         }
        },
        "xaxis": {
         "anchor": "y",
         "constrain": "domain",
         "domain": [
          0,
          1
         ],
         "scaleanchor": "y"
        },
        "yaxis": {
         "anchor": "x",
         "autorange": "reversed",
         "constrain": "domain",
         "domain": [
          0,
          1
         ]
        }
       }
      }
     },
     "metadata": {},
     "output_type": "display_data"
    }
   ],
   "source": [
    "an.show_corr(train_data, 'NG0')"
   ]
  },
  {
   "cell_type": "markdown",
   "metadata": {},
   "source": [
    "### ADDING FEATURES\n",
    "The main features that appeared to make sense include one-hot encoding the temporal data, specifically the hour of the day, as it has a significant influence on the temperature. Additionally, we'll incorporate lagged features for humidity, which already shows a clear linear correlation with the temperature.\n",
    "\n",
    "Let's start by defining some useful variables.\n"
   ]
  },
  {
   "cell_type": "code",
   "execution_count": 8,
   "metadata": {},
   "outputs": [],
   "source": [
    "# the last day of training data\n",
    "now = dt.datetime.now() - dt.timedelta(days = 2)\n",
    "now = now.replace(hour=0, minute=0, second=0, microsecond=0)\n",
    "# interval for the first day of training data\n",
    "train_interval = dt.timedelta(days = 44)\n",
    "#for past data (not made for leap years)\n",
    "yearly_interval =  dt.timedelta(days = 365)\n",
    "# interval for test data\n",
    "test_interval = dt.timedelta(days = 2)\n",
    "#lists of regions with 10 minute measurements and 30 minute measurements\n",
    "short_regions = ['NG', 'LJ', 'MS', 'NM']\n",
    "long_regions = ['PO', 'CE', 'JE']"
   ]
  },
  {
   "cell_type": "markdown",
   "metadata": {},
   "source": [
    "At this point, it's important to mention that certain regions (namely Portorož, Celje, and Jesenice) have 30-minute measurement intervals, while others (Nova Gorica, Ljubljana, Murska Sobota, and Novo Mesto) have 10-minute intervals. As we proceed, we'll assess whether this difference significantly impacts our results."
   ]
  },
  {
   "cell_type": "markdown",
   "metadata": {},
   "source": [
    "Now let's add the features."
   ]
  },
  {
   "cell_type": "code",
   "execution_count": 9,
   "metadata": {},
   "outputs": [],
   "source": [
    "train_data = an.set_train_index(now,train_data, train_interval, yearly_interval, short_regions, long_regions)\n",
    "test_data = an.set_test_index(test_data, short_regions, long_regions)\n",
    "train_data, test_data = an.hot_encode(train_data, test_data)\n",
    "train_data, test_data = an.create_lags(train_data, test_data,3, [\"moisture\"])"
   ]
  },
  {
   "cell_type": "markdown",
   "metadata": {},
   "source": [
    "Here are the distinct dataframes for visual comparison."
   ]
  },
  {
   "cell_type": "code",
   "execution_count": 10,
   "metadata": {},
   "outputs": [
    {
     "data": {
      "text/html": [
       "<div>\n",
       "<style scoped>\n",
       "    .dataframe tbody tr th:only-of-type {\n",
       "        vertical-align: middle;\n",
       "    }\n",
       "\n",
       "    .dataframe tbody tr th {\n",
       "        vertical-align: top;\n",
       "    }\n",
       "\n",
       "    .dataframe thead th {\n",
       "        text-align: right;\n",
       "    }\n",
       "</style>\n",
       "<table border=\"1\" class=\"dataframe\">\n",
       "  <thead>\n",
       "    <tr style=\"text-align: right;\">\n",
       "      <th></th>\n",
       "      <th>temp</th>\n",
       "      <th>moisture</th>\n",
       "      <th>rain</th>\n",
       "      <th>wind_speed</th>\n",
       "      <th>wind_dir</th>\n",
       "      <th>pressure</th>\n",
       "      <th>hour_0</th>\n",
       "      <th>hour_1</th>\n",
       "      <th>hour_2</th>\n",
       "      <th>hour_3</th>\n",
       "      <th>...</th>\n",
       "      <th>hour_17</th>\n",
       "      <th>hour_18</th>\n",
       "      <th>hour_19</th>\n",
       "      <th>hour_20</th>\n",
       "      <th>hour_21</th>\n",
       "      <th>hour_22</th>\n",
       "      <th>hour_23</th>\n",
       "      <th>moisture_lag_1</th>\n",
       "      <th>moisture_lag_2</th>\n",
       "      <th>moisture_lag_3</th>\n",
       "    </tr>\n",
       "  </thead>\n",
       "  <tbody>\n",
       "    <tr>\n",
       "      <th>2023-07-12 00:30:00</th>\n",
       "      <td>24.7</td>\n",
       "      <td>67</td>\n",
       "      <td>0</td>\n",
       "      <td>1.1</td>\n",
       "      <td>132</td>\n",
       "      <td>1.3</td>\n",
       "      <td>1</td>\n",
       "      <td>0</td>\n",
       "      <td>0</td>\n",
       "      <td>0</td>\n",
       "      <td>...</td>\n",
       "      <td>0</td>\n",
       "      <td>0</td>\n",
       "      <td>0</td>\n",
       "      <td>0</td>\n",
       "      <td>0</td>\n",
       "      <td>0</td>\n",
       "      <td>0</td>\n",
       "      <td>66</td>\n",
       "      <td>66</td>\n",
       "      <td>65</td>\n",
       "    </tr>\n",
       "    <tr>\n",
       "      <th>2023-07-12 00:40:00</th>\n",
       "      <td>24.6</td>\n",
       "      <td>68</td>\n",
       "      <td>0</td>\n",
       "      <td>0.4</td>\n",
       "      <td>109.6</td>\n",
       "      <td>0.7</td>\n",
       "      <td>1</td>\n",
       "      <td>0</td>\n",
       "      <td>0</td>\n",
       "      <td>0</td>\n",
       "      <td>...</td>\n",
       "      <td>0</td>\n",
       "      <td>0</td>\n",
       "      <td>0</td>\n",
       "      <td>0</td>\n",
       "      <td>0</td>\n",
       "      <td>0</td>\n",
       "      <td>0</td>\n",
       "      <td>67</td>\n",
       "      <td>66</td>\n",
       "      <td>66</td>\n",
       "    </tr>\n",
       "    <tr>\n",
       "      <th>2023-07-12 00:50:00</th>\n",
       "      <td>24.4</td>\n",
       "      <td>69</td>\n",
       "      <td>0</td>\n",
       "      <td>0.6</td>\n",
       "      <td>114.6</td>\n",
       "      <td>0.9</td>\n",
       "      <td>1</td>\n",
       "      <td>0</td>\n",
       "      <td>0</td>\n",
       "      <td>0</td>\n",
       "      <td>...</td>\n",
       "      <td>0</td>\n",
       "      <td>0</td>\n",
       "      <td>0</td>\n",
       "      <td>0</td>\n",
       "      <td>0</td>\n",
       "      <td>0</td>\n",
       "      <td>0</td>\n",
       "      <td>68</td>\n",
       "      <td>67</td>\n",
       "      <td>66</td>\n",
       "    </tr>\n",
       "  </tbody>\n",
       "</table>\n",
       "<p>3 rows × 33 columns</p>\n",
       "</div>"
      ],
      "text/plain": [
       "                     temp moisture rain wind_speed wind_dir pressure  hour_0  \\\n",
       "2023-07-12 00:30:00  24.7       67    0        1.1      132      1.3       1   \n",
       "2023-07-12 00:40:00  24.6       68    0        0.4    109.6      0.7       1   \n",
       "2023-07-12 00:50:00  24.4       69    0        0.6    114.6      0.9       1   \n",
       "\n",
       "                     hour_1  hour_2  hour_3  ...  hour_17  hour_18  hour_19  \\\n",
       "2023-07-12 00:30:00       0       0       0  ...        0        0        0   \n",
       "2023-07-12 00:40:00       0       0       0  ...        0        0        0   \n",
       "2023-07-12 00:50:00       0       0       0  ...        0        0        0   \n",
       "\n",
       "                     hour_20  hour_21  hour_22  hour_23  moisture_lag_1  \\\n",
       "2023-07-12 00:30:00        0        0        0        0              66   \n",
       "2023-07-12 00:40:00        0        0        0        0              67   \n",
       "2023-07-12 00:50:00        0        0        0        0              68   \n",
       "\n",
       "                     moisture_lag_2  moisture_lag_3  \n",
       "2023-07-12 00:30:00              66              65  \n",
       "2023-07-12 00:40:00              66              66  \n",
       "2023-07-12 00:50:00              67              66  \n",
       "\n",
       "[3 rows x 33 columns]"
      ]
     },
     "execution_count": 10,
     "metadata": {},
     "output_type": "execute_result"
    }
   ],
   "source": [
    "train_data['NG0'].head(3)"
   ]
  },
  {
   "cell_type": "code",
   "execution_count": 11,
   "metadata": {},
   "outputs": [
    {
     "data": {
      "text/html": [
       "<div>\n",
       "<style scoped>\n",
       "    .dataframe tbody tr th:only-of-type {\n",
       "        vertical-align: middle;\n",
       "    }\n",
       "\n",
       "    .dataframe tbody tr th {\n",
       "        vertical-align: top;\n",
       "    }\n",
       "\n",
       "    .dataframe thead th {\n",
       "        text-align: right;\n",
       "    }\n",
       "</style>\n",
       "<table border=\"1\" class=\"dataframe\">\n",
       "  <thead>\n",
       "    <tr style=\"text-align: right;\">\n",
       "      <th></th>\n",
       "      <th>temp</th>\n",
       "      <th>moisture</th>\n",
       "      <th>rain</th>\n",
       "      <th>wind_speed</th>\n",
       "      <th>wind_dir</th>\n",
       "      <th>pressure</th>\n",
       "      <th>hour_0</th>\n",
       "      <th>hour_1</th>\n",
       "      <th>hour_2</th>\n",
       "      <th>hour_3</th>\n",
       "      <th>...</th>\n",
       "      <th>hour_17</th>\n",
       "      <th>hour_18</th>\n",
       "      <th>hour_19</th>\n",
       "      <th>hour_20</th>\n",
       "      <th>hour_21</th>\n",
       "      <th>hour_22</th>\n",
       "      <th>hour_23</th>\n",
       "      <th>moisture_lag_1</th>\n",
       "      <th>moisture_lag_2</th>\n",
       "      <th>moisture_lag_3</th>\n",
       "    </tr>\n",
       "  </thead>\n",
       "  <tbody>\n",
       "    <tr>\n",
       "      <th>2023-07-12 01:30:00</th>\n",
       "      <td>23.6</td>\n",
       "      <td>72</td>\n",
       "      <td>0</td>\n",
       "      <td>0.7</td>\n",
       "      <td>46</td>\n",
       "      <td>1.8</td>\n",
       "      <td>0</td>\n",
       "      <td>1</td>\n",
       "      <td>0</td>\n",
       "      <td>0</td>\n",
       "      <td>...</td>\n",
       "      <td>0</td>\n",
       "      <td>0</td>\n",
       "      <td>0</td>\n",
       "      <td>0</td>\n",
       "      <td>0</td>\n",
       "      <td>0</td>\n",
       "      <td>0</td>\n",
       "      <td>70</td>\n",
       "      <td>70</td>\n",
       "      <td>73</td>\n",
       "    </tr>\n",
       "    <tr>\n",
       "      <th>2023-07-12 02:00:00</th>\n",
       "      <td>23.3</td>\n",
       "      <td>72</td>\n",
       "      <td>0</td>\n",
       "      <td>0.6</td>\n",
       "      <td>95</td>\n",
       "      <td>1.3</td>\n",
       "      <td>0</td>\n",
       "      <td>0</td>\n",
       "      <td>1</td>\n",
       "      <td>0</td>\n",
       "      <td>...</td>\n",
       "      <td>0</td>\n",
       "      <td>0</td>\n",
       "      <td>0</td>\n",
       "      <td>0</td>\n",
       "      <td>0</td>\n",
       "      <td>0</td>\n",
       "      <td>0</td>\n",
       "      <td>72</td>\n",
       "      <td>70</td>\n",
       "      <td>70</td>\n",
       "    </tr>\n",
       "    <tr>\n",
       "      <th>2023-07-12 02:30:00</th>\n",
       "      <td>23.2</td>\n",
       "      <td>76</td>\n",
       "      <td>0</td>\n",
       "      <td>1.1</td>\n",
       "      <td>337</td>\n",
       "      <td>2</td>\n",
       "      <td>0</td>\n",
       "      <td>0</td>\n",
       "      <td>1</td>\n",
       "      <td>0</td>\n",
       "      <td>...</td>\n",
       "      <td>0</td>\n",
       "      <td>0</td>\n",
       "      <td>0</td>\n",
       "      <td>0</td>\n",
       "      <td>0</td>\n",
       "      <td>0</td>\n",
       "      <td>0</td>\n",
       "      <td>72</td>\n",
       "      <td>72</td>\n",
       "      <td>70</td>\n",
       "    </tr>\n",
       "  </tbody>\n",
       "</table>\n",
       "<p>3 rows × 33 columns</p>\n",
       "</div>"
      ],
      "text/plain": [
       "                     temp moisture rain wind_speed wind_dir pressure  hour_0  \\\n",
       "2023-07-12 01:30:00  23.6       72    0        0.7       46      1.8       0   \n",
       "2023-07-12 02:00:00  23.3       72    0        0.6       95      1.3       0   \n",
       "2023-07-12 02:30:00  23.2       76    0        1.1      337        2       0   \n",
       "\n",
       "                     hour_1  hour_2  hour_3  ...  hour_17  hour_18  hour_19  \\\n",
       "2023-07-12 01:30:00       1       0       0  ...        0        0        0   \n",
       "2023-07-12 02:00:00       0       1       0  ...        0        0        0   \n",
       "2023-07-12 02:30:00       0       1       0  ...        0        0        0   \n",
       "\n",
       "                     hour_20  hour_21  hour_22  hour_23  moisture_lag_1  \\\n",
       "2023-07-12 01:30:00        0        0        0        0              70   \n",
       "2023-07-12 02:00:00        0        0        0        0              72   \n",
       "2023-07-12 02:30:00        0        0        0        0              72   \n",
       "\n",
       "                     moisture_lag_2  moisture_lag_3  \n",
       "2023-07-12 01:30:00              70              73  \n",
       "2023-07-12 02:00:00              70              70  \n",
       "2023-07-12 02:30:00              72              70  \n",
       "\n",
       "[3 rows x 33 columns]"
      ]
     },
     "execution_count": 11,
     "metadata": {},
     "output_type": "execute_result"
    }
   ],
   "source": [
    "train_data['PO0'].head(3)"
   ]
  },
  {
   "cell_type": "markdown",
   "metadata": {},
   "source": [
    "### MODEL TRAINING\n",
    "For model training, I employ `LinearRegression()` from the scikit-learn library.\n",
    "\n",
    "**DISCLAIMER!**\n",
    "Currently, I drop the pressure column from my data since I couldn't locate the data for certain regions (though I plan to incorporate it in the future).\n"
   ]
  },
  {
   "cell_type": "code",
   "execution_count": 12,
   "metadata": {},
   "outputs": [],
   "source": [
    "for i in train_data:\n",
    "    train_data[i] = train_data[i].drop(['pressure'], axis=1)\n",
    "\n",
    "# Also rearange the test data columns to match train data\n",
    "for i in test_data:\n",
    "    test_data[i] = test_data[i][list(train_data[f'{i}0'])]\n",
    "    test_data[i] = test_data[i].apply(pd.to_numeric)\n",
    "\n",
    "all_models = an.train_models(train_data)"
   ]
  },
  {
   "cell_type": "markdown",
   "metadata": {},
   "source": [
    "An interesting thing occurs at this point: the use of `pd.to_numeric` introduces some NaN values in the data. While I haven't identified the exact cause of this, I've addressed it by forward-filling the data (Since this happens rarely it should't have an effect on the models)."
   ]
  },
  {
   "cell_type": "code",
   "execution_count": 13,
   "metadata": {},
   "outputs": [],
   "source": [
    "train_data, test_data = an.fill_na(train_data, test_data)"
   ]
  },
  {
   "cell_type": "markdown",
   "metadata": {},
   "source": [
    "### MODEL TESTING\n",
    "I evaluate the models using the Mean Squared Error (MSE). It's worth noting that the measurement frequency significantly influences the model's accuracy. Predictions for regions with 30-minute measurements exhibit lower accuracy compared to those with 10-minute measurements. I'm confident enough in the forecast's validity for regions with 10-minute measurements that I wouldn't hesitate to trust the predicted temperature if I were outside."
   ]
  },
  {
   "cell_type": "code",
   "execution_count": 14,
   "metadata": {},
   "outputs": [
    {
     "data": {
      "text/plain": [
       "{'NG0': 7.710962568288142,\n",
       " 'NG1': 6.43177987741843,\n",
       " 'NG2': 4.317165093822852,\n",
       " 'LJ0': 2.6119202902949135,\n",
       " 'LJ1': 1.2823254150025916,\n",
       " 'LJ2': 8.919756602103403,\n",
       " 'MS0': 6.736069929413683,\n",
       " 'MS1': 14.928043994383668,\n",
       " 'MS2': 1.5751072970941902,\n",
       " 'NM0': 4.913202125031879,\n",
       " 'NM1': 10.732245267187748,\n",
       " 'NM2': 3.3296640731665876,\n",
       " 'PO0': 6.393338287690888,\n",
       " 'PO1': 3.681737704414032,\n",
       " 'PO2': 5.100952389616334,\n",
       " 'CE0': 3.6386159368733844,\n",
       " 'CE1': 8.681160856013177,\n",
       " 'CE2': 4.97017951160838,\n",
       " 'JE0': 6.976630605039549,\n",
       " 'JE1': 2.5620340353643463,\n",
       " 'JE2': 5.442178872851774}"
      ]
     },
     "execution_count": 14,
     "metadata": {},
     "output_type": "execute_result"
    }
   ],
   "source": [
    "models = an.test_models(all_models, test_data)\n",
    "mse = an.show_mse(all_models, test_data, ['NG', 'LJ', 'MS', 'NM', 'PO', 'CE', 'JE'])\n",
    "mse"
   ]
  },
  {
   "cell_type": "markdown",
   "metadata": {},
   "source": [
    "The following graph shows a visual comparisson of MSE for each ragion."
   ]
  },
  {
   "cell_type": "code",
   "execution_count": 15,
   "metadata": {},
   "outputs": [
    {
     "data": {
      "application/vnd.plotly.v1+json": {
       "config": {
        "plotlyServerURL": "https://plot.ly"
       },
       "data": [
        {
         "name": "NG",
         "type": "bar",
         "x": [
          2021,
          2022,
          2023
         ],
         "y": [
          7.710962568288142,
          6.43177987741843,
          4.317165093822852
         ]
        },
        {
         "name": "LJ",
         "type": "bar",
         "x": [
          2021,
          2022,
          2023
         ],
         "y": [
          2.6119202902949135,
          1.2823254150025916,
          8.919756602103403
         ]
        },
        {
         "name": "MS",
         "type": "bar",
         "x": [
          2021,
          2022,
          2023
         ],
         "y": [
          6.736069929413683,
          14.928043994383668,
          1.5751072970941902
         ]
        },
        {
         "name": "NM",
         "type": "bar",
         "x": [
          2021,
          2022,
          2023
         ],
         "y": [
          4.913202125031879,
          10.732245267187748,
          3.3296640731665876
         ]
        },
        {
         "name": "PO",
         "type": "bar",
         "x": [
          2021,
          2022,
          2023
         ],
         "y": [
          6.393338287690888,
          3.681737704414032,
          5.100952389616334
         ]
        },
        {
         "name": "CE",
         "type": "bar",
         "x": [
          2021,
          2022,
          2023
         ],
         "y": [
          3.6386159368733844,
          8.681160856013177,
          4.97017951160838
         ]
        },
        {
         "name": "JE",
         "type": "bar",
         "x": [
          2021,
          2022,
          2023
         ],
         "y": [
          6.976630605039549,
          2.5620340353643463,
          5.442178872851774
         ]
        }
       ],
       "layout": {
        "template": {
         "data": {
          "bar": [
           {
            "error_x": {
             "color": "#2a3f5f"
            },
            "error_y": {
             "color": "#2a3f5f"
            },
            "marker": {
             "line": {
              "color": "#E5ECF6",
              "width": 0.5
             },
             "pattern": {
              "fillmode": "overlay",
              "size": 10,
              "solidity": 0.2
             }
            },
            "type": "bar"
           }
          ],
          "barpolar": [
           {
            "marker": {
             "line": {
              "color": "#E5ECF6",
              "width": 0.5
             },
             "pattern": {
              "fillmode": "overlay",
              "size": 10,
              "solidity": 0.2
             }
            },
            "type": "barpolar"
           }
          ],
          "carpet": [
           {
            "aaxis": {
             "endlinecolor": "#2a3f5f",
             "gridcolor": "white",
             "linecolor": "white",
             "minorgridcolor": "white",
             "startlinecolor": "#2a3f5f"
            },
            "baxis": {
             "endlinecolor": "#2a3f5f",
             "gridcolor": "white",
             "linecolor": "white",
             "minorgridcolor": "white",
             "startlinecolor": "#2a3f5f"
            },
            "type": "carpet"
           }
          ],
          "choropleth": [
           {
            "colorbar": {
             "outlinewidth": 0,
             "ticks": ""
            },
            "type": "choropleth"
           }
          ],
          "contour": [
           {
            "colorbar": {
             "outlinewidth": 0,
             "ticks": ""
            },
            "colorscale": [
             [
              0,
              "#0d0887"
             ],
             [
              0.1111111111111111,
              "#46039f"
             ],
             [
              0.2222222222222222,
              "#7201a8"
             ],
             [
              0.3333333333333333,
              "#9c179e"
             ],
             [
              0.4444444444444444,
              "#bd3786"
             ],
             [
              0.5555555555555556,
              "#d8576b"
             ],
             [
              0.6666666666666666,
              "#ed7953"
             ],
             [
              0.7777777777777778,
              "#fb9f3a"
             ],
             [
              0.8888888888888888,
              "#fdca26"
             ],
             [
              1,
              "#f0f921"
             ]
            ],
            "type": "contour"
           }
          ],
          "contourcarpet": [
           {
            "colorbar": {
             "outlinewidth": 0,
             "ticks": ""
            },
            "type": "contourcarpet"
           }
          ],
          "heatmap": [
           {
            "colorbar": {
             "outlinewidth": 0,
             "ticks": ""
            },
            "colorscale": [
             [
              0,
              "#0d0887"
             ],
             [
              0.1111111111111111,
              "#46039f"
             ],
             [
              0.2222222222222222,
              "#7201a8"
             ],
             [
              0.3333333333333333,
              "#9c179e"
             ],
             [
              0.4444444444444444,
              "#bd3786"
             ],
             [
              0.5555555555555556,
              "#d8576b"
             ],
             [
              0.6666666666666666,
              "#ed7953"
             ],
             [
              0.7777777777777778,
              "#fb9f3a"
             ],
             [
              0.8888888888888888,
              "#fdca26"
             ],
             [
              1,
              "#f0f921"
             ]
            ],
            "type": "heatmap"
           }
          ],
          "heatmapgl": [
           {
            "colorbar": {
             "outlinewidth": 0,
             "ticks": ""
            },
            "colorscale": [
             [
              0,
              "#0d0887"
             ],
             [
              0.1111111111111111,
              "#46039f"
             ],
             [
              0.2222222222222222,
              "#7201a8"
             ],
             [
              0.3333333333333333,
              "#9c179e"
             ],
             [
              0.4444444444444444,
              "#bd3786"
             ],
             [
              0.5555555555555556,
              "#d8576b"
             ],
             [
              0.6666666666666666,
              "#ed7953"
             ],
             [
              0.7777777777777778,
              "#fb9f3a"
             ],
             [
              0.8888888888888888,
              "#fdca26"
             ],
             [
              1,
              "#f0f921"
             ]
            ],
            "type": "heatmapgl"
           }
          ],
          "histogram": [
           {
            "marker": {
             "pattern": {
              "fillmode": "overlay",
              "size": 10,
              "solidity": 0.2
             }
            },
            "type": "histogram"
           }
          ],
          "histogram2d": [
           {
            "colorbar": {
             "outlinewidth": 0,
             "ticks": ""
            },
            "colorscale": [
             [
              0,
              "#0d0887"
             ],
             [
              0.1111111111111111,
              "#46039f"
             ],
             [
              0.2222222222222222,
              "#7201a8"
             ],
             [
              0.3333333333333333,
              "#9c179e"
             ],
             [
              0.4444444444444444,
              "#bd3786"
             ],
             [
              0.5555555555555556,
              "#d8576b"
             ],
             [
              0.6666666666666666,
              "#ed7953"
             ],
             [
              0.7777777777777778,
              "#fb9f3a"
             ],
             [
              0.8888888888888888,
              "#fdca26"
             ],
             [
              1,
              "#f0f921"
             ]
            ],
            "type": "histogram2d"
           }
          ],
          "histogram2dcontour": [
           {
            "colorbar": {
             "outlinewidth": 0,
             "ticks": ""
            },
            "colorscale": [
             [
              0,
              "#0d0887"
             ],
             [
              0.1111111111111111,
              "#46039f"
             ],
             [
              0.2222222222222222,
              "#7201a8"
             ],
             [
              0.3333333333333333,
              "#9c179e"
             ],
             [
              0.4444444444444444,
              "#bd3786"
             ],
             [
              0.5555555555555556,
              "#d8576b"
             ],
             [
              0.6666666666666666,
              "#ed7953"
             ],
             [
              0.7777777777777778,
              "#fb9f3a"
             ],
             [
              0.8888888888888888,
              "#fdca26"
             ],
             [
              1,
              "#f0f921"
             ]
            ],
            "type": "histogram2dcontour"
           }
          ],
          "mesh3d": [
           {
            "colorbar": {
             "outlinewidth": 0,
             "ticks": ""
            },
            "type": "mesh3d"
           }
          ],
          "parcoords": [
           {
            "line": {
             "colorbar": {
              "outlinewidth": 0,
              "ticks": ""
             }
            },
            "type": "parcoords"
           }
          ],
          "pie": [
           {
            "automargin": true,
            "type": "pie"
           }
          ],
          "scatter": [
           {
            "fillpattern": {
             "fillmode": "overlay",
             "size": 10,
             "solidity": 0.2
            },
            "type": "scatter"
           }
          ],
          "scatter3d": [
           {
            "line": {
             "colorbar": {
              "outlinewidth": 0,
              "ticks": ""
             }
            },
            "marker": {
             "colorbar": {
              "outlinewidth": 0,
              "ticks": ""
             }
            },
            "type": "scatter3d"
           }
          ],
          "scattercarpet": [
           {
            "marker": {
             "colorbar": {
              "outlinewidth": 0,
              "ticks": ""
             }
            },
            "type": "scattercarpet"
           }
          ],
          "scattergeo": [
           {
            "marker": {
             "colorbar": {
              "outlinewidth": 0,
              "ticks": ""
             }
            },
            "type": "scattergeo"
           }
          ],
          "scattergl": [
           {
            "marker": {
             "colorbar": {
              "outlinewidth": 0,
              "ticks": ""
             }
            },
            "type": "scattergl"
           }
          ],
          "scattermapbox": [
           {
            "marker": {
             "colorbar": {
              "outlinewidth": 0,
              "ticks": ""
             }
            },
            "type": "scattermapbox"
           }
          ],
          "scatterpolar": [
           {
            "marker": {
             "colorbar": {
              "outlinewidth": 0,
              "ticks": ""
             }
            },
            "type": "scatterpolar"
           }
          ],
          "scatterpolargl": [
           {
            "marker": {
             "colorbar": {
              "outlinewidth": 0,
              "ticks": ""
             }
            },
            "type": "scatterpolargl"
           }
          ],
          "scatterternary": [
           {
            "marker": {
             "colorbar": {
              "outlinewidth": 0,
              "ticks": ""
             }
            },
            "type": "scatterternary"
           }
          ],
          "surface": [
           {
            "colorbar": {
             "outlinewidth": 0,
             "ticks": ""
            },
            "colorscale": [
             [
              0,
              "#0d0887"
             ],
             [
              0.1111111111111111,
              "#46039f"
             ],
             [
              0.2222222222222222,
              "#7201a8"
             ],
             [
              0.3333333333333333,
              "#9c179e"
             ],
             [
              0.4444444444444444,
              "#bd3786"
             ],
             [
              0.5555555555555556,
              "#d8576b"
             ],
             [
              0.6666666666666666,
              "#ed7953"
             ],
             [
              0.7777777777777778,
              "#fb9f3a"
             ],
             [
              0.8888888888888888,
              "#fdca26"
             ],
             [
              1,
              "#f0f921"
             ]
            ],
            "type": "surface"
           }
          ],
          "table": [
           {
            "cells": {
             "fill": {
              "color": "#EBF0F8"
             },
             "line": {
              "color": "white"
             }
            },
            "header": {
             "fill": {
              "color": "#C8D4E3"
             },
             "line": {
              "color": "white"
             }
            },
            "type": "table"
           }
          ]
         },
         "layout": {
          "annotationdefaults": {
           "arrowcolor": "#2a3f5f",
           "arrowhead": 0,
           "arrowwidth": 1
          },
          "autotypenumbers": "strict",
          "coloraxis": {
           "colorbar": {
            "outlinewidth": 0,
            "ticks": ""
           }
          },
          "colorscale": {
           "diverging": [
            [
             0,
             "#8e0152"
            ],
            [
             0.1,
             "#c51b7d"
            ],
            [
             0.2,
             "#de77ae"
            ],
            [
             0.3,
             "#f1b6da"
            ],
            [
             0.4,
             "#fde0ef"
            ],
            [
             0.5,
             "#f7f7f7"
            ],
            [
             0.6,
             "#e6f5d0"
            ],
            [
             0.7,
             "#b8e186"
            ],
            [
             0.8,
             "#7fbc41"
            ],
            [
             0.9,
             "#4d9221"
            ],
            [
             1,
             "#276419"
            ]
           ],
           "sequential": [
            [
             0,
             "#0d0887"
            ],
            [
             0.1111111111111111,
             "#46039f"
            ],
            [
             0.2222222222222222,
             "#7201a8"
            ],
            [
             0.3333333333333333,
             "#9c179e"
            ],
            [
             0.4444444444444444,
             "#bd3786"
            ],
            [
             0.5555555555555556,
             "#d8576b"
            ],
            [
             0.6666666666666666,
             "#ed7953"
            ],
            [
             0.7777777777777778,
             "#fb9f3a"
            ],
            [
             0.8888888888888888,
             "#fdca26"
            ],
            [
             1,
             "#f0f921"
            ]
           ],
           "sequentialminus": [
            [
             0,
             "#0d0887"
            ],
            [
             0.1111111111111111,
             "#46039f"
            ],
            [
             0.2222222222222222,
             "#7201a8"
            ],
            [
             0.3333333333333333,
             "#9c179e"
            ],
            [
             0.4444444444444444,
             "#bd3786"
            ],
            [
             0.5555555555555556,
             "#d8576b"
            ],
            [
             0.6666666666666666,
             "#ed7953"
            ],
            [
             0.7777777777777778,
             "#fb9f3a"
            ],
            [
             0.8888888888888888,
             "#fdca26"
            ],
            [
             1,
             "#f0f921"
            ]
           ]
          },
          "colorway": [
           "#636efa",
           "#EF553B",
           "#00cc96",
           "#ab63fa",
           "#FFA15A",
           "#19d3f3",
           "#FF6692",
           "#B6E880",
           "#FF97FF",
           "#FECB52"
          ],
          "font": {
           "color": "#2a3f5f"
          },
          "geo": {
           "bgcolor": "white",
           "lakecolor": "white",
           "landcolor": "#E5ECF6",
           "showlakes": true,
           "showland": true,
           "subunitcolor": "white"
          },
          "hoverlabel": {
           "align": "left"
          },
          "hovermode": "closest",
          "mapbox": {
           "style": "light"
          },
          "paper_bgcolor": "white",
          "plot_bgcolor": "#E5ECF6",
          "polar": {
           "angularaxis": {
            "gridcolor": "white",
            "linecolor": "white",
            "ticks": ""
           },
           "bgcolor": "#E5ECF6",
           "radialaxis": {
            "gridcolor": "white",
            "linecolor": "white",
            "ticks": ""
           }
          },
          "scene": {
           "xaxis": {
            "backgroundcolor": "#E5ECF6",
            "gridcolor": "white",
            "gridwidth": 2,
            "linecolor": "white",
            "showbackground": true,
            "ticks": "",
            "zerolinecolor": "white"
           },
           "yaxis": {
            "backgroundcolor": "#E5ECF6",
            "gridcolor": "white",
            "gridwidth": 2,
            "linecolor": "white",
            "showbackground": true,
            "ticks": "",
            "zerolinecolor": "white"
           },
           "zaxis": {
            "backgroundcolor": "#E5ECF6",
            "gridcolor": "white",
            "gridwidth": 2,
            "linecolor": "white",
            "showbackground": true,
            "ticks": "",
            "zerolinecolor": "white"
           }
          },
          "shapedefaults": {
           "line": {
            "color": "#2a3f5f"
           }
          },
          "ternary": {
           "aaxis": {
            "gridcolor": "white",
            "linecolor": "white",
            "ticks": ""
           },
           "baxis": {
            "gridcolor": "white",
            "linecolor": "white",
            "ticks": ""
           },
           "bgcolor": "#E5ECF6",
           "caxis": {
            "gridcolor": "white",
            "linecolor": "white",
            "ticks": ""
           }
          },
          "title": {
           "x": 0.05
          },
          "xaxis": {
           "automargin": true,
           "gridcolor": "white",
           "linecolor": "white",
           "ticks": "",
           "title": {
            "standoff": 15
           },
           "zerolinecolor": "white",
           "zerolinewidth": 2
          },
          "yaxis": {
           "automargin": true,
           "gridcolor": "white",
           "linecolor": "white",
           "ticks": "",
           "title": {
            "standoff": 15
           },
           "zerolinecolor": "white",
           "zerolinewidth": 2
          }
         }
        },
        "title": {
         "text": "Mean Squared Error for each region"
        },
        "xaxis": {
         "title": {
          "text": "Model year"
         }
        },
        "yaxis": {
         "title": {
          "text": "MSE"
         }
        }
       }
      }
     },
     "metadata": {},
     "output_type": "display_data"
    }
   ],
   "source": [
    "an.mse_graph(mse, ['NG', 'LJ', 'MS', 'NM', 'PO', 'CE', 'JE'])"
   ]
  },
  {
   "cell_type": "markdown",
   "metadata": {},
   "source": [
    "Although I don't use the R^2 coefficient to select my models, it's still interesting to showcase. Generally, the R^2 coefficient aligns with the MSE in terms of indicating the better model. We can clearly see which regins have 30 minute measurements."
   ]
  },
  {
   "cell_type": "code",
   "execution_count": 16,
   "metadata": {},
   "outputs": [
    {
     "data": {
      "text/plain": [
       "{'NG0': 0.6924511403962907,\n",
       " 'NG1': 0.7915343244045252,\n",
       " 'NG2': 0.8149656715211895,\n",
       " 'LJ0': 0.852689940186372,\n",
       " 'LJ1': 0.9419458375915218,\n",
       " 'LJ2': 0.14185147580691637,\n",
       " 'MS0': 0.383155523343769,\n",
       " 'MS1': -0.47955372261015206,\n",
       " 'MS2': 0.9339868303494827,\n",
       " 'NM0': 0.6767736552058362,\n",
       " 'NM1': 0.16267952171029487,\n",
       " 'NM2': 0.7934783545276279,\n",
       " 'PO0': 0.4785519310954188,\n",
       " 'PO1': 0.796488792685685,\n",
       " 'PO2': 0.7136820564447213,\n",
       " 'CE0': 0.7853573937389865,\n",
       " 'CE1': 0.3515695899233974,\n",
       " 'CE2': 0.6749404653721979,\n",
       " 'JE0': 0.5724209326208969,\n",
       " 'JE1': 0.9020925602061144,\n",
       " 'JE2': 0.723532800159701}"
      ]
     },
     "execution_count": 16,
     "metadata": {},
     "output_type": "execute_result"
    }
   ],
   "source": [
    "r2 = an.show_r2(all_models, test_data, ['NG', 'LJ', 'MS', 'NM', 'PO', 'CE', 'JE'])\n",
    "r2"
   ]
  },
  {
   "cell_type": "markdown",
   "metadata": {},
   "source": [
    "For Nova Gorica the model's predictions and the actual temperatures look like this."
   ]
  },
  {
   "cell_type": "code",
   "execution_count": 17,
   "metadata": {},
   "outputs": [
    {
     "data": {
      "application/vnd.plotly.v1+json": {
       "config": {
        "plotlyServerURL": "https://plot.ly"
       },
       "data": [
        {
         "name": "Actual",
         "type": "scatter",
         "x": [
          "2023-08-27T19:30:00",
          "2023-08-27T19:20:00",
          "2023-08-27T19:10:00",
          "2023-08-27T19:00:00",
          "2023-08-27T18:50:00",
          "2023-08-27T18:40:00",
          "2023-08-27T18:30:00",
          "2023-08-27T18:20:00",
          "2023-08-27T18:10:00",
          "2023-08-27T18:00:00",
          "2023-08-27T17:50:00",
          "2023-08-27T17:40:00",
          "2023-08-27T17:30:00",
          "2023-08-27T17:20:00",
          "2023-08-27T17:10:00",
          "2023-08-27T17:00:00",
          "2023-08-27T16:50:00",
          "2023-08-27T16:40:00",
          "2023-08-27T16:30:00",
          "2023-08-27T16:20:00",
          "2023-08-27T16:10:00",
          "2023-08-27T16:00:00",
          "2023-08-27T15:50:00",
          "2023-08-27T15:40:00",
          "2023-08-27T15:30:00",
          "2023-08-27T15:20:00",
          "2023-08-27T15:10:00",
          "2023-08-27T15:00:00",
          "2023-08-27T14:50:00",
          "2023-08-27T14:40:00",
          "2023-08-27T14:30:00",
          "2023-08-27T14:20:00",
          "2023-08-27T14:10:00",
          "2023-08-27T14:00:00",
          "2023-08-27T13:50:00",
          "2023-08-27T13:40:00",
          "2023-08-27T13:30:00",
          "2023-08-27T13:20:00",
          "2023-08-27T13:10:00",
          "2023-08-27T13:00:00",
          "2023-08-27T12:50:00",
          "2023-08-27T12:40:00",
          "2023-08-27T12:30:00",
          "2023-08-27T12:20:00",
          "2023-08-27T12:10:00",
          "2023-08-27T12:00:00",
          "2023-08-27T11:50:00",
          "2023-08-27T11:40:00",
          "2023-08-27T11:30:00",
          "2023-08-27T11:20:00",
          "2023-08-27T11:10:00",
          "2023-08-27T11:00:00",
          "2023-08-27T10:50:00",
          "2023-08-27T10:40:00",
          "2023-08-27T10:30:00",
          "2023-08-27T10:20:00",
          "2023-08-27T10:10:00",
          "2023-08-27T10:00:00",
          "2023-08-27T09:50:00",
          "2023-08-27T09:40:00",
          "2023-08-27T09:30:00",
          "2023-08-27T09:20:00",
          "2023-08-27T09:10:00",
          "2023-08-27T09:00:00",
          "2023-08-27T08:50:00",
          "2023-08-27T08:40:00",
          "2023-08-27T08:30:00",
          "2023-08-27T08:20:00",
          "2023-08-27T08:10:00",
          "2023-08-27T08:00:00",
          "2023-08-27T07:50:00",
          "2023-08-27T07:40:00",
          "2023-08-27T07:30:00",
          "2023-08-27T07:20:00",
          "2023-08-27T07:10:00",
          "2023-08-27T07:00:00",
          "2023-08-27T06:50:00",
          "2023-08-27T06:40:00",
          "2023-08-27T06:30:00",
          "2023-08-27T06:20:00",
          "2023-08-27T06:10:00",
          "2023-08-27T06:00:00",
          "2023-08-27T05:50:00",
          "2023-08-27T05:40:00",
          "2023-08-27T05:30:00",
          "2023-08-27T05:20:00",
          "2023-08-27T05:10:00",
          "2023-08-27T05:00:00",
          "2023-08-27T04:50:00",
          "2023-08-27T04:40:00",
          "2023-08-27T04:30:00",
          "2023-08-27T04:20:00",
          "2023-08-27T04:10:00",
          "2023-08-27T04:00:00",
          "2023-08-27T03:50:00",
          "2023-08-27T03:40:00",
          "2023-08-27T03:30:00",
          "2023-08-27T03:20:00",
          "2023-08-27T03:10:00",
          "2023-08-27T03:00:00",
          "2023-08-27T02:50:00",
          "2023-08-27T02:40:00",
          "2023-08-27T02:30:00",
          "2023-08-27T02:20:00",
          "2023-08-27T02:10:00",
          "2023-08-27T02:00:00",
          "2023-08-27T01:50:00",
          "2023-08-27T01:40:00",
          "2023-08-27T01:30:00",
          "2023-08-27T01:20:00",
          "2023-08-27T01:10:00",
          "2023-08-27T01:00:00",
          "2023-08-27T00:50:00",
          "2023-08-27T00:40:00",
          "2023-08-27T00:30:00",
          "2023-08-27T00:20:00",
          "2023-08-27T00:10:00",
          "2023-08-27T00:00:00",
          "2023-08-26T23:50:00",
          "2023-08-26T23:40:00",
          "2023-08-26T23:30:00",
          "2023-08-26T23:20:00",
          "2023-08-26T23:10:00",
          "2023-08-26T23:00:00",
          "2023-08-26T22:50:00",
          "2023-08-26T22:40:00",
          "2023-08-26T22:30:00",
          "2023-08-26T22:20:00",
          "2023-08-26T22:10:00",
          "2023-08-26T22:00:00",
          "2023-08-26T21:50:00",
          "2023-08-26T21:40:00",
          "2023-08-26T21:30:00",
          "2023-08-26T21:20:00",
          "2023-08-26T21:10:00",
          "2023-08-26T21:00:00",
          "2023-08-26T20:50:00",
          "2023-08-26T20:40:00",
          "2023-08-26T20:30:00",
          "2023-08-26T20:20:00",
          "2023-08-26T20:10:00",
          "2023-08-26T20:00:00",
          "2023-08-26T19:50:00",
          "2023-08-26T19:40:00",
          "2023-08-26T19:30:00",
          "2023-08-26T19:20:00",
          "2023-08-26T19:10:00",
          "2023-08-26T19:00:00",
          "2023-08-26T18:50:00",
          "2023-08-26T18:40:00",
          "2023-08-26T18:30:00",
          "2023-08-26T18:20:00",
          "2023-08-26T18:10:00",
          "2023-08-26T18:00:00",
          "2023-08-26T17:50:00",
          "2023-08-26T17:40:00",
          "2023-08-26T17:30:00",
          "2023-08-26T17:20:00",
          "2023-08-26T17:10:00",
          "2023-08-26T17:00:00",
          "2023-08-26T16:50:00",
          "2023-08-26T16:40:00",
          "2023-08-26T16:30:00",
          "2023-08-26T16:20:00",
          "2023-08-26T16:10:00",
          "2023-08-26T16:00:00",
          "2023-08-26T15:50:00",
          "2023-08-26T15:40:00",
          "2023-08-26T15:30:00",
          "2023-08-26T15:20:00",
          "2023-08-26T15:10:00",
          "2023-08-26T15:00:00",
          "2023-08-26T14:50:00",
          "2023-08-26T14:40:00",
          "2023-08-26T14:30:00",
          "2023-08-26T14:20:00",
          "2023-08-26T14:10:00",
          "2023-08-26T14:00:00",
          "2023-08-26T13:50:00",
          "2023-08-26T13:40:00",
          "2023-08-26T13:30:00",
          "2023-08-26T13:20:00",
          "2023-08-26T13:10:00",
          "2023-08-26T13:00:00",
          "2023-08-26T12:50:00",
          "2023-08-26T12:40:00",
          "2023-08-26T12:30:00",
          "2023-08-26T12:20:00",
          "2023-08-26T12:10:00",
          "2023-08-26T12:00:00",
          "2023-08-26T11:50:00",
          "2023-08-26T11:40:00",
          "2023-08-26T11:30:00",
          "2023-08-26T11:20:00",
          "2023-08-26T11:10:00",
          "2023-08-26T11:00:00",
          "2023-08-26T10:50:00",
          "2023-08-26T10:40:00",
          "2023-08-26T10:30:00",
          "2023-08-26T10:20:00",
          "2023-08-26T10:10:00",
          "2023-08-26T10:00:00",
          "2023-08-26T09:50:00",
          "2023-08-26T09:40:00",
          "2023-08-26T09:30:00",
          "2023-08-26T09:20:00",
          "2023-08-26T09:10:00",
          "2023-08-26T09:00:00",
          "2023-08-26T08:50:00",
          "2023-08-26T08:40:00",
          "2023-08-26T08:30:00",
          "2023-08-26T08:20:00",
          "2023-08-26T08:10:00",
          "2023-08-26T08:00:00",
          "2023-08-26T07:50:00",
          "2023-08-26T07:40:00",
          "2023-08-26T07:30:00",
          "2023-08-26T07:20:00",
          "2023-08-26T07:10:00",
          "2023-08-26T07:00:00",
          "2023-08-26T06:50:00",
          "2023-08-26T06:40:00",
          "2023-08-26T06:30:00",
          "2023-08-26T06:20:00",
          "2023-08-26T06:10:00",
          "2023-08-26T06:00:00",
          "2023-08-26T05:50:00",
          "2023-08-26T05:40:00",
          "2023-08-26T05:30:00",
          "2023-08-26T05:20:00",
          "2023-08-26T05:10:00",
          "2023-08-26T05:00:00",
          "2023-08-26T04:50:00",
          "2023-08-26T04:40:00",
          "2023-08-26T04:30:00",
          "2023-08-26T04:20:00",
          "2023-08-26T04:10:00",
          "2023-08-26T04:00:00",
          "2023-08-26T03:50:00",
          "2023-08-26T03:40:00",
          "2023-08-26T03:30:00",
          "2023-08-26T03:20:00",
          "2023-08-26T03:10:00",
          "2023-08-26T03:00:00",
          "2023-08-26T02:50:00",
          "2023-08-26T02:40:00",
          "2023-08-26T02:30:00",
          "2023-08-26T02:20:00",
          "2023-08-26T02:10:00",
          "2023-08-26T02:00:00",
          "2023-08-26T01:50:00",
          "2023-08-26T01:40:00",
          "2023-08-26T01:30:00",
          "2023-08-26T01:20:00",
          "2023-08-26T01:10:00",
          "2023-08-26T01:00:00",
          "2023-08-26T00:50:00",
          "2023-08-26T00:40:00",
          "2023-08-26T00:30:00",
          "2023-08-26T00:20:00",
          "2023-08-26T00:10:00",
          "2023-08-26T00:00:00",
          "2023-08-25T23:50:00",
          "2023-08-25T23:40:00",
          "2023-08-25T23:30:00",
          "2023-08-25T23:20:00",
          "2023-08-25T23:10:00",
          "2023-08-25T23:00:00",
          "2023-08-25T22:50:00",
          "2023-08-25T22:40:00",
          "2023-08-25T22:30:00",
          "2023-08-25T22:20:00",
          "2023-08-25T22:10:00",
          "2023-08-25T22:00:00",
          "2023-08-25T21:50:00",
          "2023-08-25T21:40:00",
          "2023-08-25T21:30:00",
          "2023-08-25T21:20:00",
          "2023-08-25T21:10:00",
          "2023-08-25T21:00:00",
          "2023-08-25T20:50:00",
          "2023-08-25T20:40:00",
          "2023-08-25T20:30:00",
          "2023-08-25T20:20:00",
          "2023-08-25T20:10:00",
          "2023-08-25T20:00:00",
          "2023-08-25T19:50:00",
          "2023-08-25T19:40:00",
          "2023-08-25T19:30:00",
          "2023-08-25T19:20:00",
          "2023-08-25T19:10:00",
          "2023-08-25T19:00:00",
          "2023-08-25T18:50:00",
          "2023-08-25T18:40:00",
          "2023-08-25T18:30:00",
          "2023-08-25T18:20:00",
          "2023-08-25T18:10:00",
          "2023-08-25T18:00:00"
         ],
         "y": [
          28.4,
          28.5,
          28.9,
          29.1,
          29.2,
          29.9,
          30.2,
          31,
          31.7,
          31.9,
          32,
          32.3,
          32.6,
          32.8,
          32.9,
          33.2,
          33.5,
          33.3,
          33.1,
          33.1,
          33.2,
          33.1,
          33.4,
          33.9,
          33.9,
          34.3,
          34.3,
          34.5,
          33.7,
          34.3,
          34.3,
          34.4,
          34.3,
          33.9,
          33.5,
          33.6,
          33.5,
          33.6,
          33.3,
          33.3,
          33.2,
          32.9,
          32.7,
          32.5,
          32.2,
          32.2,
          32,
          31.7,
          31.6,
          31.3,
          30.7,
          30.1,
          29.5,
          29.3,
          29.3,
          29.5,
          29.1,
          28.7,
          28.2,
          27.5,
          26.8,
          25.9,
          25.3,
          24.8,
          24.2,
          23.8,
          23.4,
          23.1,
          22.4,
          21.7,
          21.5,
          21.3,
          20.9,
          20.7,
          20.4,
          20.3,
          20.3,
          20.4,
          20.5,
          20.5,
          20.5,
          20.6,
          20.7,
          20.7,
          20.5,
          20.3,
          20.3,
          20.6,
          20.6,
          20.6,
          20.7,
          20.7,
          20.9,
          20.9,
          20.9,
          21.1,
          21.1,
          21.2,
          21.3,
          21.3,
          21.3,
          21.5,
          21.7,
          21.7,
          21.6,
          21.6,
          21.7,
          21.8,
          22,
          22,
          22.2,
          22.3,
          22.4,
          22.5,
          22.4,
          22.4,
          22.6,
          22.8,
          22.9,
          23.2,
          23.2,
          23.3,
          23.7,
          23.8,
          24,
          24.1,
          24.1,
          24.6,
          24.5,
          24.7,
          25.2,
          25.2,
          25.6,
          25.8,
          25.8,
          26.1,
          26.5,
          26.7,
          27.1,
          27.4,
          27.9,
          28.5,
          29,
          29.2,
          29.2,
          29.3,
          29.6,
          29.9,
          30.5,
          30.8,
          31,
          31.2,
          31.6,
          31.9,
          32.3,
          32.5,
          32.8,
          33.2,
          33.5,
          33.6,
          33.9,
          34.1,
          34.1,
          34.3,
          34.5,
          34.7,
          34.7,
          34.8,
          34.8,
          34.8,
          34.8,
          34.9,
          35,
          35.2,
          35.4,
          35.3,
          35.3,
          35.4,
          35.5,
          35.3,
          35.2,
          35,
          35,
          34.7,
          34.6,
          34.3,
          34,
          33.9,
          33.4,
          33.3,
          33.2,
          32.8,
          32.6,
          32.2,
          31.9,
          31.5,
          31.1,
          30.5,
          30,
          29.4,
          28.7,
          27.8,
          26.9,
          26.2,
          25.7,
          25.3,
          24.9,
          24.4,
          23.9,
          23.1,
          22.7,
          22.3,
          21.8,
          21.4,
          21,
          20.9,
          20.7,
          20.4,
          20.3,
          20.4,
          20.4,
          20.4,
          20.5,
          20.6,
          20.7,
          20.7,
          20.6,
          20.6,
          20.6,
          20.7,
          20.7,
          20.8,
          21,
          21.1,
          21.2,
          21.2,
          21.3,
          21.3,
          21.5,
          21.6,
          21.6,
          21.8,
          21.8,
          21.9,
          22,
          22.1,
          22.1,
          22.2,
          22.3,
          22.5,
          22.6,
          22.7,
          23,
          23,
          23,
          23.1,
          23.2,
          23.4,
          23.4,
          23.5,
          23.6,
          23.7,
          23.8,
          24.1,
          24.2,
          24.6,
          24.5,
          24.7,
          24.8,
          25,
          25.2,
          25.7,
          26,
          26.1,
          26,
          26.4,
          26.7,
          27,
          27.4,
          27.7,
          27.9,
          28.2,
          28.6,
          29.1,
          29.5,
          30.1,
          30.7,
          31.9,
          32.3,
          32.6,
          32.8,
          32.9,
          33.1,
          33.5,
          33.7,
          33.8,
          33.9,
          34.2
         ]
        },
        {
         "name": "Predicted 0",
         "type": "scatter",
         "x": [
          "2023-08-27T19:30:00",
          "2023-08-27T19:20:00",
          "2023-08-27T19:10:00",
          "2023-08-27T19:00:00",
          "2023-08-27T18:50:00",
          "2023-08-27T18:40:00",
          "2023-08-27T18:30:00",
          "2023-08-27T18:20:00",
          "2023-08-27T18:10:00",
          "2023-08-27T18:00:00",
          "2023-08-27T17:50:00",
          "2023-08-27T17:40:00",
          "2023-08-27T17:30:00",
          "2023-08-27T17:20:00",
          "2023-08-27T17:10:00",
          "2023-08-27T17:00:00",
          "2023-08-27T16:50:00",
          "2023-08-27T16:40:00",
          "2023-08-27T16:30:00",
          "2023-08-27T16:20:00",
          "2023-08-27T16:10:00",
          "2023-08-27T16:00:00",
          "2023-08-27T15:50:00",
          "2023-08-27T15:40:00",
          "2023-08-27T15:30:00",
          "2023-08-27T15:20:00",
          "2023-08-27T15:10:00",
          "2023-08-27T15:00:00",
          "2023-08-27T14:50:00",
          "2023-08-27T14:40:00",
          "2023-08-27T14:30:00",
          "2023-08-27T14:20:00",
          "2023-08-27T14:10:00",
          "2023-08-27T14:00:00",
          "2023-08-27T13:50:00",
          "2023-08-27T13:40:00",
          "2023-08-27T13:30:00",
          "2023-08-27T13:20:00",
          "2023-08-27T13:10:00",
          "2023-08-27T13:00:00",
          "2023-08-27T12:50:00",
          "2023-08-27T12:40:00",
          "2023-08-27T12:30:00",
          "2023-08-27T12:20:00",
          "2023-08-27T12:10:00",
          "2023-08-27T12:00:00",
          "2023-08-27T11:50:00",
          "2023-08-27T11:40:00",
          "2023-08-27T11:30:00",
          "2023-08-27T11:20:00",
          "2023-08-27T11:10:00",
          "2023-08-27T11:00:00",
          "2023-08-27T10:50:00",
          "2023-08-27T10:40:00",
          "2023-08-27T10:30:00",
          "2023-08-27T10:20:00",
          "2023-08-27T10:10:00",
          "2023-08-27T10:00:00",
          "2023-08-27T09:50:00",
          "2023-08-27T09:40:00",
          "2023-08-27T09:30:00",
          "2023-08-27T09:20:00",
          "2023-08-27T09:10:00",
          "2023-08-27T09:00:00",
          "2023-08-27T08:50:00",
          "2023-08-27T08:40:00",
          "2023-08-27T08:30:00",
          "2023-08-27T08:20:00",
          "2023-08-27T08:10:00",
          "2023-08-27T08:00:00",
          "2023-08-27T07:50:00",
          "2023-08-27T07:40:00",
          "2023-08-27T07:30:00",
          "2023-08-27T07:20:00",
          "2023-08-27T07:10:00",
          "2023-08-27T07:00:00",
          "2023-08-27T06:50:00",
          "2023-08-27T06:40:00",
          "2023-08-27T06:30:00",
          "2023-08-27T06:20:00",
          "2023-08-27T06:10:00",
          "2023-08-27T06:00:00",
          "2023-08-27T05:50:00",
          "2023-08-27T05:40:00",
          "2023-08-27T05:30:00",
          "2023-08-27T05:20:00",
          "2023-08-27T05:10:00",
          "2023-08-27T05:00:00",
          "2023-08-27T04:50:00",
          "2023-08-27T04:40:00",
          "2023-08-27T04:30:00",
          "2023-08-27T04:20:00",
          "2023-08-27T04:10:00",
          "2023-08-27T04:00:00",
          "2023-08-27T03:50:00",
          "2023-08-27T03:40:00",
          "2023-08-27T03:30:00",
          "2023-08-27T03:20:00",
          "2023-08-27T03:10:00",
          "2023-08-27T03:00:00",
          "2023-08-27T02:50:00",
          "2023-08-27T02:40:00",
          "2023-08-27T02:30:00",
          "2023-08-27T02:20:00",
          "2023-08-27T02:10:00",
          "2023-08-27T02:00:00",
          "2023-08-27T01:50:00",
          "2023-08-27T01:40:00",
          "2023-08-27T01:30:00",
          "2023-08-27T01:20:00",
          "2023-08-27T01:10:00",
          "2023-08-27T01:00:00",
          "2023-08-27T00:50:00",
          "2023-08-27T00:40:00",
          "2023-08-27T00:30:00",
          "2023-08-27T00:20:00",
          "2023-08-27T00:10:00",
          "2023-08-27T00:00:00",
          "2023-08-26T23:50:00",
          "2023-08-26T23:40:00",
          "2023-08-26T23:30:00",
          "2023-08-26T23:20:00",
          "2023-08-26T23:10:00",
          "2023-08-26T23:00:00",
          "2023-08-26T22:50:00",
          "2023-08-26T22:40:00",
          "2023-08-26T22:30:00",
          "2023-08-26T22:20:00",
          "2023-08-26T22:10:00",
          "2023-08-26T22:00:00",
          "2023-08-26T21:50:00",
          "2023-08-26T21:40:00",
          "2023-08-26T21:30:00",
          "2023-08-26T21:20:00",
          "2023-08-26T21:10:00",
          "2023-08-26T21:00:00",
          "2023-08-26T20:50:00",
          "2023-08-26T20:40:00",
          "2023-08-26T20:30:00",
          "2023-08-26T20:20:00",
          "2023-08-26T20:10:00",
          "2023-08-26T20:00:00",
          "2023-08-26T19:50:00",
          "2023-08-26T19:40:00",
          "2023-08-26T19:30:00",
          "2023-08-26T19:20:00",
          "2023-08-26T19:10:00",
          "2023-08-26T19:00:00",
          "2023-08-26T18:50:00",
          "2023-08-26T18:40:00",
          "2023-08-26T18:30:00",
          "2023-08-26T18:20:00",
          "2023-08-26T18:10:00",
          "2023-08-26T18:00:00",
          "2023-08-26T17:50:00",
          "2023-08-26T17:40:00",
          "2023-08-26T17:30:00",
          "2023-08-26T17:20:00",
          "2023-08-26T17:10:00",
          "2023-08-26T17:00:00",
          "2023-08-26T16:50:00",
          "2023-08-26T16:40:00",
          "2023-08-26T16:30:00",
          "2023-08-26T16:20:00",
          "2023-08-26T16:10:00",
          "2023-08-26T16:00:00",
          "2023-08-26T15:50:00",
          "2023-08-26T15:40:00",
          "2023-08-26T15:30:00",
          "2023-08-26T15:20:00",
          "2023-08-26T15:10:00",
          "2023-08-26T15:00:00",
          "2023-08-26T14:50:00",
          "2023-08-26T14:40:00",
          "2023-08-26T14:30:00",
          "2023-08-26T14:20:00",
          "2023-08-26T14:10:00",
          "2023-08-26T14:00:00",
          "2023-08-26T13:50:00",
          "2023-08-26T13:40:00",
          "2023-08-26T13:30:00",
          "2023-08-26T13:20:00",
          "2023-08-26T13:10:00",
          "2023-08-26T13:00:00",
          "2023-08-26T12:50:00",
          "2023-08-26T12:40:00",
          "2023-08-26T12:30:00",
          "2023-08-26T12:20:00",
          "2023-08-26T12:10:00",
          "2023-08-26T12:00:00",
          "2023-08-26T11:50:00",
          "2023-08-26T11:40:00",
          "2023-08-26T11:30:00",
          "2023-08-26T11:20:00",
          "2023-08-26T11:10:00",
          "2023-08-26T11:00:00",
          "2023-08-26T10:50:00",
          "2023-08-26T10:40:00",
          "2023-08-26T10:30:00",
          "2023-08-26T10:20:00",
          "2023-08-26T10:10:00",
          "2023-08-26T10:00:00",
          "2023-08-26T09:50:00",
          "2023-08-26T09:40:00",
          "2023-08-26T09:30:00",
          "2023-08-26T09:20:00",
          "2023-08-26T09:10:00",
          "2023-08-26T09:00:00",
          "2023-08-26T08:50:00",
          "2023-08-26T08:40:00",
          "2023-08-26T08:30:00",
          "2023-08-26T08:20:00",
          "2023-08-26T08:10:00",
          "2023-08-26T08:00:00",
          "2023-08-26T07:50:00",
          "2023-08-26T07:40:00",
          "2023-08-26T07:30:00",
          "2023-08-26T07:20:00",
          "2023-08-26T07:10:00",
          "2023-08-26T07:00:00",
          "2023-08-26T06:50:00",
          "2023-08-26T06:40:00",
          "2023-08-26T06:30:00",
          "2023-08-26T06:20:00",
          "2023-08-26T06:10:00",
          "2023-08-26T06:00:00",
          "2023-08-26T05:50:00",
          "2023-08-26T05:40:00",
          "2023-08-26T05:30:00",
          "2023-08-26T05:20:00",
          "2023-08-26T05:10:00",
          "2023-08-26T05:00:00",
          "2023-08-26T04:50:00",
          "2023-08-26T04:40:00",
          "2023-08-26T04:30:00",
          "2023-08-26T04:20:00",
          "2023-08-26T04:10:00",
          "2023-08-26T04:00:00",
          "2023-08-26T03:50:00",
          "2023-08-26T03:40:00",
          "2023-08-26T03:30:00",
          "2023-08-26T03:20:00",
          "2023-08-26T03:10:00",
          "2023-08-26T03:00:00",
          "2023-08-26T02:50:00",
          "2023-08-26T02:40:00",
          "2023-08-26T02:30:00",
          "2023-08-26T02:20:00",
          "2023-08-26T02:10:00",
          "2023-08-26T02:00:00",
          "2023-08-26T01:50:00",
          "2023-08-26T01:40:00",
          "2023-08-26T01:30:00",
          "2023-08-26T01:20:00",
          "2023-08-26T01:10:00",
          "2023-08-26T01:00:00",
          "2023-08-26T00:50:00",
          "2023-08-26T00:40:00",
          "2023-08-26T00:30:00",
          "2023-08-26T00:20:00",
          "2023-08-26T00:10:00",
          "2023-08-26T00:00:00",
          "2023-08-25T23:50:00",
          "2023-08-25T23:40:00",
          "2023-08-25T23:30:00",
          "2023-08-25T23:20:00",
          "2023-08-25T23:10:00",
          "2023-08-25T23:00:00",
          "2023-08-25T22:50:00",
          "2023-08-25T22:40:00",
          "2023-08-25T22:30:00",
          "2023-08-25T22:20:00",
          "2023-08-25T22:10:00",
          "2023-08-25T22:00:00",
          "2023-08-25T21:50:00",
          "2023-08-25T21:40:00",
          "2023-08-25T21:30:00",
          "2023-08-25T21:20:00",
          "2023-08-25T21:10:00",
          "2023-08-25T21:00:00",
          "2023-08-25T20:50:00",
          "2023-08-25T20:40:00",
          "2023-08-25T20:30:00",
          "2023-08-25T20:20:00",
          "2023-08-25T20:10:00",
          "2023-08-25T20:00:00",
          "2023-08-25T19:50:00",
          "2023-08-25T19:40:00",
          "2023-08-25T19:30:00",
          "2023-08-25T19:20:00",
          "2023-08-25T19:10:00",
          "2023-08-25T19:00:00",
          "2023-08-25T18:50:00",
          "2023-08-25T18:40:00",
          "2023-08-25T18:30:00",
          "2023-08-25T18:20:00",
          "2023-08-25T18:10:00",
          "2023-08-25T18:00:00"
         ],
         "y": [
          27.643777562242164,
          28.093371321266694,
          28.26595868737313,
          28.252238403791964,
          28.742738127141145,
          28.89786256599063,
          29.2162772013865,
          29.71465123006558,
          30.584459291859577,
          31.617779759023314,
          31.686272496665513,
          32.24201680571174,
          32.406309901645834,
          32.00501121074494,
          32.4515623602659,
          32.09903516470315,
          32.55834370330501,
          32.45390511266646,
          32.64653147963156,
          32.818503482090456,
          32.35340840396097,
          32.44352694175484,
          32.998856782737505,
          32.8690239036133,
          33.30717489896916,
          33.32021471220499,
          33.47355811553068,
          33.49452928999522,
          34.231114929370975,
          33.98333234489461,
          34.28474969073756,
          34.08656879788819,
          32.89492247273647,
          33.12263911634522,
          33.406529810212625,
          32.4928535056629,
          32.55649359838718,
          32.379374169611076,
          32.557808996206944,
          32.55356986814246,
          32.6100790303604,
          32.04428800526815,
          32.3115734852134,
          32.36916913622551,
          30.98507676523005,
          30.889587687508552,
          30.115446966367976,
          30.90935602497541,
          31.16933181780422,
          30.47864953967615,
          29.641938738807298,
          29.39264062005608,
          28.793308268499043,
          28.677514048568185,
          28.74340396975265,
          28.483743830588267,
          29.203095106841584,
          29.048586031639648,
          28.44484472974402,
          28.255181972120784,
          27.795179195499962,
          26.88176411997056,
          26.084399991304544,
          25.730315625271782,
          25.295505161965433,
          24.698471489700268,
          24.07134558324855,
          24.066702768945454,
          23.146311976295834,
          23.250238790947417,
          23.276540031493862,
          22.13769063714176,
          22.725437031159547,
          22.318787364157917,
          22.46689215335985,
          22.559104225109593,
          22.464399442159216,
          22.20308056005832,
          22.1545598697829,
          22.678897154216177,
          22.686644529488255,
          22.73333126518694,
          22.489085425541806,
          22.625353437350697,
          22.568610959782756,
          21.648447995040538,
          22.153745124572655,
          22.213614882168834,
          22.63915867990943,
          22.512834047992808,
          21.815100156536257,
          22.089874079065442,
          22.716406694237882,
          21.83969509541774,
          22.484827713459477,
          22.560348516104135,
          22.574146901649176,
          22.483250227719203,
          22.79549497358327,
          22.948192166576735,
          22.165458738585848,
          22.32030152568793,
          23.351491353025338,
          23.524391217563846,
          23.273037787723478,
          23.492989204641564,
          22.82674662771715,
          23.331506495565595,
          23.16663881327893,
          23.4274920576758,
          23.42325292961131,
          22.652013667502093,
          23.54452183481176,
          23.92280622780381,
          23.883139141752675,
          23.208219153653808,
          23.189331879928538,
          24.087177425701775,
          23.813094222132708,
          24.012740238745362,
          24.67088744244683,
          24.291953425794123,
          24.564458602727225,
          24.683227221510442,
          25.007292699111733,
          25.57878235694772,
          24.67990306510211,
          25.327638095974926,
          25.97914977244056,
          25.88432646887817,
          25.61334330613595,
          26.005344827476797,
          26.235140308855197,
          25.934650825091868,
          26.320866579312625,
          26.698270365504257,
          26.662937468539077,
          27.05956224035613,
          27.14283041827287,
          27.457502409992955,
          27.52219581261649,
          27.593555589160538,
          27.67431676850367,
          28.482042659486773,
          28.745726835978264,
          28.530232741815468,
          28.858462244628164,
          28.63814791876644,
          30.25279481546012,
          30.306290382297597,
          30.20230744747384,
          31.304253009863146,
          31.224696628937522,
          31.231363002858032,
          31.09103710394936,
          31.532033727586068,
          31.433671330131414,
          31.34840728404958,
          31.43410270782233,
          31.914957779648848,
          32.6913378643745,
          33.0601102551652,
          32.96566229969812,
          33.17698232121527,
          33.15206926481767,
          32.86202867774779,
          33.5536209114553,
          33.4012362168939,
          33.651183959305776,
          33.072322274293015,
          33.04039518733191,
          33.13726476957097,
          32.76130220978789,
          32.839746742677264,
          33.05254493450274,
          32.98474381567786,
          33.10860694172535,
          33.37027909955329,
          33.64536343788636,
          33.35543611099128,
          33.4609084477022,
          33.63530769601711,
          34.06286568782005,
          33.58832461238481,
          32.734402123748936,
          33.015957078507796,
          33.213411362728884,
          32.913884001058285,
          32.844951470370255,
          33.06302253633259,
          32.56725401644145,
          32.261675644497885,
          32.04378856449218,
          32.10916243746105,
          31.880066990254875,
          30.877951245415687,
          30.973331086493953,
          30.42022659891049,
          30.377006474224242,
          30.057808083608226,
          28.666402481669046,
          28.720286593786117,
          28.12235287987202,
          27.129950390685526,
          26.6528183987079,
          26.503432471699305,
          26.073615625612945,
          25.701151001658026,
          24.505063573270625,
          24.008428943920187,
          24.222607640263213,
          23.87153027686548,
          22.990415879294485,
          22.99974730886764,
          22.675360927512116,
          22.801685559428737,
          22.806159083961422,
          22.36010441882916,
          21.759005713143466,
          21.63959088402803,
          21.734246251581485,
          21.99509949597835,
          21.07201280099141,
          21.642034179831743,
          22.300677867921912,
          21.145184459743927,
          20.770798861626556,
          21.015426474622366,
          21.37497443682892,
          20.996851699329167,
          20.860118049816254,
          21.377401682684937,
          21.526978452663858,
          21.45763069478337,
          21.549142732360888,
          21.791958463148227,
          21.79485134670827,
          21.96238067131915,
          21.692642762582416,
          21.863064970753342,
          22.345731924788332,
          22.015762163746807,
          22.02108229316287,
          21.638720427598624,
          22.431282250000173,
          22.695878138072825,
          22.838781677117545,
          22.174970740787195,
          22.085651552597497,
          22.830303420988567,
          22.248753368449208,
          22.857783435363608,
          23.053424720379972,
          23.153152926165966,
          23.18371420479573,
          23.505205709708278,
          23.643968388850354,
          23.6282864971172,
          23.636268268857478,
          23.72246017701893,
          23.80198571125988,
          23.862936470207636,
          23.975534658563355,
          23.894197242113933,
          24.202202859913513,
          24.039762423482866,
          24.296376539815242,
          24.581568254257135,
          24.801476792967275,
          23.971248380062296,
          24.957400581420934,
          24.76682611221654,
          24.784367141437365,
          25.239515426346152,
          25.6271759516941,
          25.548265781100696,
          25.791081511888034,
          25.852032270835785,
          25.981915560471563,
          26.228786433366764,
          26.514479403610103,
          26.88162389814896,
          27.12182839712365,
          27.050899998270523,
          27.6693384797257,
          27.825778316394953,
          28.05792129091178,
          28.785625163265234,
          29.575433278797842,
          30.12603638141502,
          30.88948411692638,
          31.21486799145823,
          31.69314681500265,
          31.70402147030297,
          31.912114896359927,
          31.837181765910508,
          31.92580091992798,
          32.4580474932217
         ]
        },
        {
         "name": "Predicted 1",
         "type": "scatter",
         "x": [
          "2023-08-27T19:30:00",
          "2023-08-27T19:20:00",
          "2023-08-27T19:10:00",
          "2023-08-27T19:00:00",
          "2023-08-27T18:50:00",
          "2023-08-27T18:40:00",
          "2023-08-27T18:30:00",
          "2023-08-27T18:20:00",
          "2023-08-27T18:10:00",
          "2023-08-27T18:00:00",
          "2023-08-27T17:50:00",
          "2023-08-27T17:40:00",
          "2023-08-27T17:30:00",
          "2023-08-27T17:20:00",
          "2023-08-27T17:10:00",
          "2023-08-27T17:00:00",
          "2023-08-27T16:50:00",
          "2023-08-27T16:40:00",
          "2023-08-27T16:30:00",
          "2023-08-27T16:20:00",
          "2023-08-27T16:10:00",
          "2023-08-27T16:00:00",
          "2023-08-27T15:50:00",
          "2023-08-27T15:40:00",
          "2023-08-27T15:30:00",
          "2023-08-27T15:20:00",
          "2023-08-27T15:10:00",
          "2023-08-27T15:00:00",
          "2023-08-27T14:50:00",
          "2023-08-27T14:40:00",
          "2023-08-27T14:30:00",
          "2023-08-27T14:20:00",
          "2023-08-27T14:10:00",
          "2023-08-27T14:00:00",
          "2023-08-27T13:50:00",
          "2023-08-27T13:40:00",
          "2023-08-27T13:30:00",
          "2023-08-27T13:20:00",
          "2023-08-27T13:10:00",
          "2023-08-27T13:00:00",
          "2023-08-27T12:50:00",
          "2023-08-27T12:40:00",
          "2023-08-27T12:30:00",
          "2023-08-27T12:20:00",
          "2023-08-27T12:10:00",
          "2023-08-27T12:00:00",
          "2023-08-27T11:50:00",
          "2023-08-27T11:40:00",
          "2023-08-27T11:30:00",
          "2023-08-27T11:20:00",
          "2023-08-27T11:10:00",
          "2023-08-27T11:00:00",
          "2023-08-27T10:50:00",
          "2023-08-27T10:40:00",
          "2023-08-27T10:30:00",
          "2023-08-27T10:20:00",
          "2023-08-27T10:10:00",
          "2023-08-27T10:00:00",
          "2023-08-27T09:50:00",
          "2023-08-27T09:40:00",
          "2023-08-27T09:30:00",
          "2023-08-27T09:20:00",
          "2023-08-27T09:10:00",
          "2023-08-27T09:00:00",
          "2023-08-27T08:50:00",
          "2023-08-27T08:40:00",
          "2023-08-27T08:30:00",
          "2023-08-27T08:20:00",
          "2023-08-27T08:10:00",
          "2023-08-27T08:00:00",
          "2023-08-27T07:50:00",
          "2023-08-27T07:40:00",
          "2023-08-27T07:30:00",
          "2023-08-27T07:20:00",
          "2023-08-27T07:10:00",
          "2023-08-27T07:00:00",
          "2023-08-27T06:50:00",
          "2023-08-27T06:40:00",
          "2023-08-27T06:30:00",
          "2023-08-27T06:20:00",
          "2023-08-27T06:10:00",
          "2023-08-27T06:00:00",
          "2023-08-27T05:50:00",
          "2023-08-27T05:40:00",
          "2023-08-27T05:30:00",
          "2023-08-27T05:20:00",
          "2023-08-27T05:10:00",
          "2023-08-27T05:00:00",
          "2023-08-27T04:50:00",
          "2023-08-27T04:40:00",
          "2023-08-27T04:30:00",
          "2023-08-27T04:20:00",
          "2023-08-27T04:10:00",
          "2023-08-27T04:00:00",
          "2023-08-27T03:50:00",
          "2023-08-27T03:40:00",
          "2023-08-27T03:30:00",
          "2023-08-27T03:20:00",
          "2023-08-27T03:10:00",
          "2023-08-27T03:00:00",
          "2023-08-27T02:50:00",
          "2023-08-27T02:40:00",
          "2023-08-27T02:30:00",
          "2023-08-27T02:20:00",
          "2023-08-27T02:10:00",
          "2023-08-27T02:00:00",
          "2023-08-27T01:50:00",
          "2023-08-27T01:40:00",
          "2023-08-27T01:30:00",
          "2023-08-27T01:20:00",
          "2023-08-27T01:10:00",
          "2023-08-27T01:00:00",
          "2023-08-27T00:50:00",
          "2023-08-27T00:40:00",
          "2023-08-27T00:30:00",
          "2023-08-27T00:20:00",
          "2023-08-27T00:10:00",
          "2023-08-27T00:00:00",
          "2023-08-26T23:50:00",
          "2023-08-26T23:40:00",
          "2023-08-26T23:30:00",
          "2023-08-26T23:20:00",
          "2023-08-26T23:10:00",
          "2023-08-26T23:00:00",
          "2023-08-26T22:50:00",
          "2023-08-26T22:40:00",
          "2023-08-26T22:30:00",
          "2023-08-26T22:20:00",
          "2023-08-26T22:10:00",
          "2023-08-26T22:00:00",
          "2023-08-26T21:50:00",
          "2023-08-26T21:40:00",
          "2023-08-26T21:30:00",
          "2023-08-26T21:20:00",
          "2023-08-26T21:10:00",
          "2023-08-26T21:00:00",
          "2023-08-26T20:50:00",
          "2023-08-26T20:40:00",
          "2023-08-26T20:30:00",
          "2023-08-26T20:20:00",
          "2023-08-26T20:10:00",
          "2023-08-26T20:00:00",
          "2023-08-26T19:50:00",
          "2023-08-26T19:40:00",
          "2023-08-26T19:30:00",
          "2023-08-26T19:20:00",
          "2023-08-26T19:10:00",
          "2023-08-26T19:00:00",
          "2023-08-26T18:50:00",
          "2023-08-26T18:40:00",
          "2023-08-26T18:30:00",
          "2023-08-26T18:20:00",
          "2023-08-26T18:10:00",
          "2023-08-26T18:00:00",
          "2023-08-26T17:50:00",
          "2023-08-26T17:40:00",
          "2023-08-26T17:30:00",
          "2023-08-26T17:20:00",
          "2023-08-26T17:10:00",
          "2023-08-26T17:00:00",
          "2023-08-26T16:50:00",
          "2023-08-26T16:40:00",
          "2023-08-26T16:30:00",
          "2023-08-26T16:20:00",
          "2023-08-26T16:10:00",
          "2023-08-26T16:00:00",
          "2023-08-26T15:50:00",
          "2023-08-26T15:40:00",
          "2023-08-26T15:30:00",
          "2023-08-26T15:20:00",
          "2023-08-26T15:10:00",
          "2023-08-26T15:00:00",
          "2023-08-26T14:50:00",
          "2023-08-26T14:40:00",
          "2023-08-26T14:30:00",
          "2023-08-26T14:20:00",
          "2023-08-26T14:10:00",
          "2023-08-26T14:00:00",
          "2023-08-26T13:50:00",
          "2023-08-26T13:40:00",
          "2023-08-26T13:30:00",
          "2023-08-26T13:20:00",
          "2023-08-26T13:10:00",
          "2023-08-26T13:00:00",
          "2023-08-26T12:50:00",
          "2023-08-26T12:40:00",
          "2023-08-26T12:30:00",
          "2023-08-26T12:20:00",
          "2023-08-26T12:10:00",
          "2023-08-26T12:00:00",
          "2023-08-26T11:50:00",
          "2023-08-26T11:40:00",
          "2023-08-26T11:30:00",
          "2023-08-26T11:20:00",
          "2023-08-26T11:10:00",
          "2023-08-26T11:00:00",
          "2023-08-26T10:50:00",
          "2023-08-26T10:40:00",
          "2023-08-26T10:30:00",
          "2023-08-26T10:20:00",
          "2023-08-26T10:10:00",
          "2023-08-26T10:00:00",
          "2023-08-26T09:50:00",
          "2023-08-26T09:40:00",
          "2023-08-26T09:30:00",
          "2023-08-26T09:20:00",
          "2023-08-26T09:10:00",
          "2023-08-26T09:00:00",
          "2023-08-26T08:50:00",
          "2023-08-26T08:40:00",
          "2023-08-26T08:30:00",
          "2023-08-26T08:20:00",
          "2023-08-26T08:10:00",
          "2023-08-26T08:00:00",
          "2023-08-26T07:50:00",
          "2023-08-26T07:40:00",
          "2023-08-26T07:30:00",
          "2023-08-26T07:20:00",
          "2023-08-26T07:10:00",
          "2023-08-26T07:00:00",
          "2023-08-26T06:50:00",
          "2023-08-26T06:40:00",
          "2023-08-26T06:30:00",
          "2023-08-26T06:20:00",
          "2023-08-26T06:10:00",
          "2023-08-26T06:00:00",
          "2023-08-26T05:50:00",
          "2023-08-26T05:40:00",
          "2023-08-26T05:30:00",
          "2023-08-26T05:20:00",
          "2023-08-26T05:10:00",
          "2023-08-26T05:00:00",
          "2023-08-26T04:50:00",
          "2023-08-26T04:40:00",
          "2023-08-26T04:30:00",
          "2023-08-26T04:20:00",
          "2023-08-26T04:10:00",
          "2023-08-26T04:00:00",
          "2023-08-26T03:50:00",
          "2023-08-26T03:40:00",
          "2023-08-26T03:30:00",
          "2023-08-26T03:20:00",
          "2023-08-26T03:10:00",
          "2023-08-26T03:00:00",
          "2023-08-26T02:50:00",
          "2023-08-26T02:40:00",
          "2023-08-26T02:30:00",
          "2023-08-26T02:20:00",
          "2023-08-26T02:10:00",
          "2023-08-26T02:00:00",
          "2023-08-26T01:50:00",
          "2023-08-26T01:40:00",
          "2023-08-26T01:30:00",
          "2023-08-26T01:20:00",
          "2023-08-26T01:10:00",
          "2023-08-26T01:00:00",
          "2023-08-26T00:50:00",
          "2023-08-26T00:40:00",
          "2023-08-26T00:30:00",
          "2023-08-26T00:20:00",
          "2023-08-26T00:10:00",
          "2023-08-26T00:00:00",
          "2023-08-25T23:50:00",
          "2023-08-25T23:40:00",
          "2023-08-25T23:30:00",
          "2023-08-25T23:20:00",
          "2023-08-25T23:10:00",
          "2023-08-25T23:00:00",
          "2023-08-25T22:50:00",
          "2023-08-25T22:40:00",
          "2023-08-25T22:30:00",
          "2023-08-25T22:20:00",
          "2023-08-25T22:10:00",
          "2023-08-25T22:00:00",
          "2023-08-25T21:50:00",
          "2023-08-25T21:40:00",
          "2023-08-25T21:30:00",
          "2023-08-25T21:20:00",
          "2023-08-25T21:10:00",
          "2023-08-25T21:00:00",
          "2023-08-25T20:50:00",
          "2023-08-25T20:40:00",
          "2023-08-25T20:30:00",
          "2023-08-25T20:20:00",
          "2023-08-25T20:10:00",
          "2023-08-25T20:00:00",
          "2023-08-25T19:50:00",
          "2023-08-25T19:40:00",
          "2023-08-25T19:30:00",
          "2023-08-25T19:20:00",
          "2023-08-25T19:10:00",
          "2023-08-25T19:00:00",
          "2023-08-25T18:50:00",
          "2023-08-25T18:40:00",
          "2023-08-25T18:30:00",
          "2023-08-25T18:20:00",
          "2023-08-25T18:10:00",
          "2023-08-25T18:00:00"
         ],
         "y": [
          27.691195783367114,
          28.09880763151322,
          28.240214333354697,
          28.102648942592907,
          28.905300083452605,
          29.034654629219492,
          29.389809313310582,
          29.48946670462473,
          29.787470018455828,
          30.867561250286315,
          30.95753356750342,
          31.13782931981948,
          31.047757763131994,
          30.54437489808533,
          31.149594454390826,
          30.988307456866767,
          31.617616145193526,
          31.768195289189897,
          32.02804788922905,
          32.351574961596064,
          31.85322947121339,
          31.971514947670034,
          32.19635268743423,
          32.24733440774276,
          32.74720804654688,
          32.537301375376956,
          32.71348766966907,
          32.59112626611239,
          33.53500393929816,
          32.789778130653865,
          33.196074807198485,
          32.895102408954855,
          31.60145101915303,
          32.23159865178757,
          32.7052647036448,
          32.077247636546545,
          32.26025540995276,
          31.486479626435596,
          32.150229512899415,
          31.99908381764159,
          31.790819293531445,
          31.31753971245794,
          32.34113803229255,
          32.26363644853271,
          29.861192126994595,
          29.77259998432016,
          28.993221687993522,
          30.87411290856922,
          31.53725859298507,
          30.77893757387553,
          28.72217723955245,
          28.39420465405778,
          27.776956083987795,
          27.714748535565317,
          27.86872521033444,
          27.366031825236938,
          29.32449867425575,
          29.013023757963328,
          27.97091817635279,
          27.683707993950573,
          27.265951022867696,
          25.661830269973628,
          25.140388864481,
          24.80821757279462,
          24.028983556780414,
          23.300958966207336,
          23.133357073204316,
          23.494003160515604,
          21.50298475339924,
          22.697649428337584,
          22.04922514900428,
          19.894420849689695,
          21.448707211451136,
          20.699640091727158,
          21.14321525539657,
          21.42051478128633,
          21.55151719929448,
          20.739539131875084,
          20.17635949947701,
          21.45387554315286,
          21.47060767877942,
          21.003639172514344,
          21.264722794270565,
          21.29510560800194,
          21.30205001580375,
          19.262662562647996,
          20.518450110565084,
          20.568112838601603,
          21.561898968985595,
          21.478467129662867,
          19.428983287978742,
          20.15616163979896,
          21.369399009098984,
          19.639887950205424,
          21.273033820341176,
          21.168115671560606,
          21.502626535336667,
          21.115301112393563,
          21.611456368805708,
          21.756298252206452,
          20.164054765554575,
          20.301028294780032,
          22.128549488549112,
          22.475801988348927,
          22.474290001109644,
          22.54159375725775,
          20.780442688411583,
          22.415296079868476,
          22.03176323359666,
          22.780547152487934,
          22.62940145723011,
          20.646904340745397,
          22.540645139232794,
          22.9454625513604,
          23.09821043972295,
          21.30646300879073,
          20.994026495338314,
          23.05233646768719,
          22.89241475801655,
          22.838046740153178,
          23.94796815377736,
          23.40914346113494,
          23.256444307180786,
          23.665967009135247,
          24.035430018294072,
          24.90917170423297,
          22.953268645478875,
          24.098438434806276,
          25.28616627222339,
          24.953540951980802,
          24.749312086507842,
          25.33708838803723,
          25.534744830605014,
          25.152173581493194,
          25.64453626123405,
          26.009108937526225,
          26.38897396189063,
          26.89148176456825,
          26.803295751414236,
          27.283963670192527,
          27.089186941544433,
          27.03006857052031,
          27.102149223974102,
          27.65025506080613,
          27.87175985949443,
          27.313420786122553,
          27.48049377865064,
          27.269257031586818,
          29.2075809969253,
          29.340582751510894,
          29.394423803428495,
          30.222731476968036,
          29.971939474017947,
          30.107597831641915,
          30.30201727252861,
          30.866117030629628,
          30.4544404886014,
          30.305180336877047,
          30.20150698608918,
          30.955681854085935,
          31.791312843500236,
          31.996245778706978,
          32.07725658870936,
          31.984920603772032,
          32.17282696930159,
          31.511871668452308,
          32.371749047662455,
          32.43275296222004,
          32.89473282822952,
          32.417895136909046,
          32.31536529462655,
          32.82352397270488,
          32.26432375098544,
          32.42057719451604,
          32.66937562953736,
          32.532167633887596,
          32.314959159803834,
          32.677058251696735,
          33.08731170018766,
          32.5722339245824,
          32.31924786699125,
          32.627287601724404,
          33.04620298560506,
          32.51036985194817,
          31.212339998181754,
          31.29899404224379,
          32.66093234601855,
          32.618214175379876,
          32.661845208770146,
          32.95938242545451,
          32.27427057133654,
          31.91377367254836,
          31.68704958785068,
          31.839744921134304,
          31.714182952038705,
          29.652955614983618,
          29.056239020162828,
          28.822931743445892,
          28.567349172767756,
          28.547811367904785,
          27.162650470722316,
          27.572183271330015,
          26.671915823219095,
          25.895264296048804,
          25.29095378182437,
          25.27353216624865,
          24.71660761129926,
          24.5752751037371,
          22.66940355005828,
          21.934776892906967,
          22.60314186333219,
          23.708417198580868,
          21.74379572622809,
          21.975529940785712,
          21.59130997687692,
          21.67474181619965,
          21.83478783640154,
          21.506227210041068,
          19.956001721491212,
          19.515134608645383,
          20.469369745803053,
          21.218153664694327,
          18.9175946192274,
          20.192070219913298,
          21.5786505634825,
          19.025109281094956,
          18.5266719994868,
          18.956432392235868,
          20.19541743091761,
          18.84984167674179,
          18.756264714482292,
          20.179930093283758,
          20.200447338053767,
          20.11897141587329,
          20.324176468290858,
          20.587303828148247,
          20.635010639042513,
          21.01195647262454,
          20.379076082808055,
          20.803728727284348,
          21.724536628172785,
          20.948570610685092,
          20.980790083945504,
          19.484068634511857,
          21.4976000028562,
          22.12087068706027,
          22.07344707699871,
          20.363939242475446,
          20.134346527479956,
          21.771155686483063,
          20.22220296186071,
          21.85997371802381,
          21.66336032984668,
          21.903098167778936,
          22.177566714157397,
          22.65124134112944,
          22.788001960623617,
          22.729118056023804,
          22.754750516594427,
          22.927736095751584,
          22.965063317284773,
          22.89579982332388,
          23.29143494192222,
          23.08747468749735,
          23.432484248651672,
          23.033464064746006,
          23.631102288379452,
          23.71837543878187,
          24.230798608478498,
          22.2388834997927,
          24.24884591570654,
          23.559869847788555,
          23.768867476877418,
          24.217599123228002,
          25.399950601324246,
          25.18050300926552,
          25.44363036912291,
          25.374366875162018,
          25.26147234781086,
          25.604932270939383,
          26.39527777374771,
          26.504390808049457,
          26.71219237355401,
          26.518377242065913,
          27.1929090267407,
          27.21223767545424,
          27.539186109362127,
          27.773305794715938,
          28.620838062840292,
          28.842034200824965,
          29.749803195937133,
          29.85265006916832,
          30.47852305419957,
          30.55186232566446,
          30.58632091689983,
          30.250260415097973,
          30.407758656621276,
          30.909304862138907
         ]
        },
        {
         "name": "Predicted 2",
         "type": "scatter",
         "x": [
          "2023-08-27T19:30:00",
          "2023-08-27T19:20:00",
          "2023-08-27T19:10:00",
          "2023-08-27T19:00:00",
          "2023-08-27T18:50:00",
          "2023-08-27T18:40:00",
          "2023-08-27T18:30:00",
          "2023-08-27T18:20:00",
          "2023-08-27T18:10:00",
          "2023-08-27T18:00:00",
          "2023-08-27T17:50:00",
          "2023-08-27T17:40:00",
          "2023-08-27T17:30:00",
          "2023-08-27T17:20:00",
          "2023-08-27T17:10:00",
          "2023-08-27T17:00:00",
          "2023-08-27T16:50:00",
          "2023-08-27T16:40:00",
          "2023-08-27T16:30:00",
          "2023-08-27T16:20:00",
          "2023-08-27T16:10:00",
          "2023-08-27T16:00:00",
          "2023-08-27T15:50:00",
          "2023-08-27T15:40:00",
          "2023-08-27T15:30:00",
          "2023-08-27T15:20:00",
          "2023-08-27T15:10:00",
          "2023-08-27T15:00:00",
          "2023-08-27T14:50:00",
          "2023-08-27T14:40:00",
          "2023-08-27T14:30:00",
          "2023-08-27T14:20:00",
          "2023-08-27T14:10:00",
          "2023-08-27T14:00:00",
          "2023-08-27T13:50:00",
          "2023-08-27T13:40:00",
          "2023-08-27T13:30:00",
          "2023-08-27T13:20:00",
          "2023-08-27T13:10:00",
          "2023-08-27T13:00:00",
          "2023-08-27T12:50:00",
          "2023-08-27T12:40:00",
          "2023-08-27T12:30:00",
          "2023-08-27T12:20:00",
          "2023-08-27T12:10:00",
          "2023-08-27T12:00:00",
          "2023-08-27T11:50:00",
          "2023-08-27T11:40:00",
          "2023-08-27T11:30:00",
          "2023-08-27T11:20:00",
          "2023-08-27T11:10:00",
          "2023-08-27T11:00:00",
          "2023-08-27T10:50:00",
          "2023-08-27T10:40:00",
          "2023-08-27T10:30:00",
          "2023-08-27T10:20:00",
          "2023-08-27T10:10:00",
          "2023-08-27T10:00:00",
          "2023-08-27T09:50:00",
          "2023-08-27T09:40:00",
          "2023-08-27T09:30:00",
          "2023-08-27T09:20:00",
          "2023-08-27T09:10:00",
          "2023-08-27T09:00:00",
          "2023-08-27T08:50:00",
          "2023-08-27T08:40:00",
          "2023-08-27T08:30:00",
          "2023-08-27T08:20:00",
          "2023-08-27T08:10:00",
          "2023-08-27T08:00:00",
          "2023-08-27T07:50:00",
          "2023-08-27T07:40:00",
          "2023-08-27T07:30:00",
          "2023-08-27T07:20:00",
          "2023-08-27T07:10:00",
          "2023-08-27T07:00:00",
          "2023-08-27T06:50:00",
          "2023-08-27T06:40:00",
          "2023-08-27T06:30:00",
          "2023-08-27T06:20:00",
          "2023-08-27T06:10:00",
          "2023-08-27T06:00:00",
          "2023-08-27T05:50:00",
          "2023-08-27T05:40:00",
          "2023-08-27T05:30:00",
          "2023-08-27T05:20:00",
          "2023-08-27T05:10:00",
          "2023-08-27T05:00:00",
          "2023-08-27T04:50:00",
          "2023-08-27T04:40:00",
          "2023-08-27T04:30:00",
          "2023-08-27T04:20:00",
          "2023-08-27T04:10:00",
          "2023-08-27T04:00:00",
          "2023-08-27T03:50:00",
          "2023-08-27T03:40:00",
          "2023-08-27T03:30:00",
          "2023-08-27T03:20:00",
          "2023-08-27T03:10:00",
          "2023-08-27T03:00:00",
          "2023-08-27T02:50:00",
          "2023-08-27T02:40:00",
          "2023-08-27T02:30:00",
          "2023-08-27T02:20:00",
          "2023-08-27T02:10:00",
          "2023-08-27T02:00:00",
          "2023-08-27T01:50:00",
          "2023-08-27T01:40:00",
          "2023-08-27T01:30:00",
          "2023-08-27T01:20:00",
          "2023-08-27T01:10:00",
          "2023-08-27T01:00:00",
          "2023-08-27T00:50:00",
          "2023-08-27T00:40:00",
          "2023-08-27T00:30:00",
          "2023-08-27T00:20:00",
          "2023-08-27T00:10:00",
          "2023-08-27T00:00:00",
          "2023-08-26T23:50:00",
          "2023-08-26T23:40:00",
          "2023-08-26T23:30:00",
          "2023-08-26T23:20:00",
          "2023-08-26T23:10:00",
          "2023-08-26T23:00:00",
          "2023-08-26T22:50:00",
          "2023-08-26T22:40:00",
          "2023-08-26T22:30:00",
          "2023-08-26T22:20:00",
          "2023-08-26T22:10:00",
          "2023-08-26T22:00:00",
          "2023-08-26T21:50:00",
          "2023-08-26T21:40:00",
          "2023-08-26T21:30:00",
          "2023-08-26T21:20:00",
          "2023-08-26T21:10:00",
          "2023-08-26T21:00:00",
          "2023-08-26T20:50:00",
          "2023-08-26T20:40:00",
          "2023-08-26T20:30:00",
          "2023-08-26T20:20:00",
          "2023-08-26T20:10:00",
          "2023-08-26T20:00:00",
          "2023-08-26T19:50:00",
          "2023-08-26T19:40:00",
          "2023-08-26T19:30:00",
          "2023-08-26T19:20:00",
          "2023-08-26T19:10:00",
          "2023-08-26T19:00:00",
          "2023-08-26T18:50:00",
          "2023-08-26T18:40:00",
          "2023-08-26T18:30:00",
          "2023-08-26T18:20:00",
          "2023-08-26T18:10:00",
          "2023-08-26T18:00:00",
          "2023-08-26T17:50:00",
          "2023-08-26T17:40:00",
          "2023-08-26T17:30:00",
          "2023-08-26T17:20:00",
          "2023-08-26T17:10:00",
          "2023-08-26T17:00:00",
          "2023-08-26T16:50:00",
          "2023-08-26T16:40:00",
          "2023-08-26T16:30:00",
          "2023-08-26T16:20:00",
          "2023-08-26T16:10:00",
          "2023-08-26T16:00:00",
          "2023-08-26T15:50:00",
          "2023-08-26T15:40:00",
          "2023-08-26T15:30:00",
          "2023-08-26T15:20:00",
          "2023-08-26T15:10:00",
          "2023-08-26T15:00:00",
          "2023-08-26T14:50:00",
          "2023-08-26T14:40:00",
          "2023-08-26T14:30:00",
          "2023-08-26T14:20:00",
          "2023-08-26T14:10:00",
          "2023-08-26T14:00:00",
          "2023-08-26T13:50:00",
          "2023-08-26T13:40:00",
          "2023-08-26T13:30:00",
          "2023-08-26T13:20:00",
          "2023-08-26T13:10:00",
          "2023-08-26T13:00:00",
          "2023-08-26T12:50:00",
          "2023-08-26T12:40:00",
          "2023-08-26T12:30:00",
          "2023-08-26T12:20:00",
          "2023-08-26T12:10:00",
          "2023-08-26T12:00:00",
          "2023-08-26T11:50:00",
          "2023-08-26T11:40:00",
          "2023-08-26T11:30:00",
          "2023-08-26T11:20:00",
          "2023-08-26T11:10:00",
          "2023-08-26T11:00:00",
          "2023-08-26T10:50:00",
          "2023-08-26T10:40:00",
          "2023-08-26T10:30:00",
          "2023-08-26T10:20:00",
          "2023-08-26T10:10:00",
          "2023-08-26T10:00:00",
          "2023-08-26T09:50:00",
          "2023-08-26T09:40:00",
          "2023-08-26T09:30:00",
          "2023-08-26T09:20:00",
          "2023-08-26T09:10:00",
          "2023-08-26T09:00:00",
          "2023-08-26T08:50:00",
          "2023-08-26T08:40:00",
          "2023-08-26T08:30:00",
          "2023-08-26T08:20:00",
          "2023-08-26T08:10:00",
          "2023-08-26T08:00:00",
          "2023-08-26T07:50:00",
          "2023-08-26T07:40:00",
          "2023-08-26T07:30:00",
          "2023-08-26T07:20:00",
          "2023-08-26T07:10:00",
          "2023-08-26T07:00:00",
          "2023-08-26T06:50:00",
          "2023-08-26T06:40:00",
          "2023-08-26T06:30:00",
          "2023-08-26T06:20:00",
          "2023-08-26T06:10:00",
          "2023-08-26T06:00:00",
          "2023-08-26T05:50:00",
          "2023-08-26T05:40:00",
          "2023-08-26T05:30:00",
          "2023-08-26T05:20:00",
          "2023-08-26T05:10:00",
          "2023-08-26T05:00:00",
          "2023-08-26T04:50:00",
          "2023-08-26T04:40:00",
          "2023-08-26T04:30:00",
          "2023-08-26T04:20:00",
          "2023-08-26T04:10:00",
          "2023-08-26T04:00:00",
          "2023-08-26T03:50:00",
          "2023-08-26T03:40:00",
          "2023-08-26T03:30:00",
          "2023-08-26T03:20:00",
          "2023-08-26T03:10:00",
          "2023-08-26T03:00:00",
          "2023-08-26T02:50:00",
          "2023-08-26T02:40:00",
          "2023-08-26T02:30:00",
          "2023-08-26T02:20:00",
          "2023-08-26T02:10:00",
          "2023-08-26T02:00:00",
          "2023-08-26T01:50:00",
          "2023-08-26T01:40:00",
          "2023-08-26T01:30:00",
          "2023-08-26T01:20:00",
          "2023-08-26T01:10:00",
          "2023-08-26T01:00:00",
          "2023-08-26T00:50:00",
          "2023-08-26T00:40:00",
          "2023-08-26T00:30:00",
          "2023-08-26T00:20:00",
          "2023-08-26T00:10:00",
          "2023-08-26T00:00:00",
          "2023-08-25T23:50:00",
          "2023-08-25T23:40:00",
          "2023-08-25T23:30:00",
          "2023-08-25T23:20:00",
          "2023-08-25T23:10:00",
          "2023-08-25T23:00:00",
          "2023-08-25T22:50:00",
          "2023-08-25T22:40:00",
          "2023-08-25T22:30:00",
          "2023-08-25T22:20:00",
          "2023-08-25T22:10:00",
          "2023-08-25T22:00:00",
          "2023-08-25T21:50:00",
          "2023-08-25T21:40:00",
          "2023-08-25T21:30:00",
          "2023-08-25T21:20:00",
          "2023-08-25T21:10:00",
          "2023-08-25T21:00:00",
          "2023-08-25T20:50:00",
          "2023-08-25T20:40:00",
          "2023-08-25T20:30:00",
          "2023-08-25T20:20:00",
          "2023-08-25T20:10:00",
          "2023-08-25T20:00:00",
          "2023-08-25T19:50:00",
          "2023-08-25T19:40:00",
          "2023-08-25T19:30:00",
          "2023-08-25T19:20:00",
          "2023-08-25T19:10:00",
          "2023-08-25T19:00:00",
          "2023-08-25T18:50:00",
          "2023-08-25T18:40:00",
          "2023-08-25T18:30:00",
          "2023-08-25T18:20:00",
          "2023-08-25T18:10:00",
          "2023-08-25T18:00:00"
         ],
         "y": [
          26.972277937659175,
          27.30051508085815,
          27.41696836540291,
          27.391388737792713,
          27.97940665704511,
          28.11062831656035,
          28.367843844682703,
          28.554192058375875,
          28.916281554745815,
          29.685520466609013,
          29.78570924283397,
          30.078340971246746,
          30.0486704152834,
          29.434041296545537,
          29.854915334921078,
          29.78615004314816,
          30.63078091008206,
          30.55862965762993,
          30.759105398088273,
          30.95745484077081,
          30.465562967813113,
          30.48238403213965,
          30.86653261213707,
          30.698984050469026,
          31.24047935484723,
          31.190590768204196,
          31.18373732557091,
          31.24401442311428,
          32.17637602385037,
          31.57333934948374,
          32.013005620267,
          31.78172246129034,
          30.680429066064974,
          30.849252905852016,
          31.23732160741681,
          30.595538642884588,
          30.82964550632206,
          30.503541057031182,
          30.80003824078016,
          30.739623556719945,
          30.66398111944124,
          30.059589991450736,
          31.40055887261034,
          31.39583004749916,
          29.09419108373072,
          29.021268128498196,
          28.40214714269723,
          30.207443338439855,
          30.559411741516275,
          30.00936150780207,
          27.946790274010112,
          27.713038393720453,
          26.95261264492471,
          27.337090483673727,
          27.47848549907065,
          26.854104937143298,
          28.71175466034748,
          28.49863684269446,
          27.535025621433743,
          27.3595724454268,
          27.022009357787066,
          25.57461932232461,
          24.937864100809392,
          24.640729849349565,
          23.90143958991274,
          23.380717347253153,
          23.11260678144457,
          23.440343419964435,
          21.41875296057249,
          22.72628781519679,
          22.236175313001908,
          20.082579073075244,
          21.636525428361665,
          20.942615097060468,
          21.32221512942749,
          21.603168454931122,
          21.48917544533938,
          20.835264670974887,
          20.54929736513756,
          21.462539647401904,
          21.59799980397598,
          21.19197861329308,
          21.270649673894997,
          21.204796339799522,
          21.303439266168446,
          19.27372091507139,
          20.70485572848225,
          20.647760957670428,
          21.518855684010077,
          21.42635259485589,
          19.480164130007765,
          20.341967688126513,
          21.3128074874941,
          19.682752069749135,
          21.376964298733014,
          21.23394573185171,
          21.500975993585,
          21.19041540253948,
          21.498719670281293,
          21.640682066835318,
          20.230532568517418,
          20.168777387954567,
          22.078870304402088,
          22.321380747975404,
          22.129946625782466,
          22.31431625177705,
          20.55601720491141,
          22.310498810583155,
          21.997956045782505,
          22.48418445245657,
          22.423769768396355,
          20.643281497483528,
          22.59528790873764,
          22.79540866604817,
          22.953051483879285,
          21.07137585662401,
          20.941220544062816,
          23.007188744207923,
          22.6764007688879,
          22.628498136494457,
          23.553547502751634,
          23.211038850138348,
          23.14625186299692,
          23.451370023512712,
          23.662191606301754,
          24.337095065573628,
          22.493710971048507,
          23.807903710744426,
          24.616359448930645,
          24.37144133285347,
          24.279568200358945,
          24.903737903159165,
          25.08923062902542,
          24.693725359132937,
          25.004011800629875,
          25.468341872222258,
          25.85391077308686,
          26.173523159024555,
          26.16596474871732,
          26.463528279420352,
          26.451871715580495,
          26.48988909876207,
          26.551417856404868,
          26.889128707188213,
          26.97646505424342,
          26.510371744409035,
          26.457879217865486,
          26.237551435549207,
          28.0249486132371,
          28.086057117925783,
          27.997650082063444,
          28.603042854021407,
          28.637172942797488,
          28.686846889818924,
          28.91366454808263,
          29.30373116793985,
          29.050687260398345,
          29.012384721994245,
          28.99408557464823,
          29.574584604610013,
          30.374488628378188,
          30.67636412318827,
          30.754226762659105,
          30.776141811871394,
          30.736780151692713,
          30.28560144109027,
          30.893180125583473,
          30.877274888058015,
          31.25341466365043,
          30.76583180335249,
          30.685565077434337,
          30.886245139515978,
          30.895172020046104,
          30.842175402766912,
          31.21011887129408,
          31.157047957919488,
          31.036007730671923,
          31.3918661851632,
          31.638393647069616,
          31.29383953027975,
          31.14340667711189,
          31.331015382755645,
          31.888479215080764,
          31.29659635826257,
          30.458778749522462,
          30.415758391681127,
          31.97463930626716,
          31.847579090706,
          31.79882097048564,
          32.004595017453035,
          31.47755162205753,
          31.21892130133715,
          30.987852781982088,
          31.05166443239546,
          30.91846059912509,
          28.866693392793373,
          28.519663276617994,
          28.16343588185767,
          28.04684879129054,
          27.785177175040452,
          26.625161818395952,
          27.28353436718549,
          26.57126786144228,
          25.78950467411116,
          25.191836963226038,
          25.06612824984145,
          24.60575740082063,
          24.254130905884352,
          22.595298345585753,
          21.94937148027723,
          22.445072055653508,
          23.433267261323557,
          21.726271568412667,
          21.94101503779085,
          21.784842301752022,
          21.877345390906214,
          21.8223665998719,
          21.50225524813725,
          19.8721403204653,
          19.71583799913682,
          20.67492453508794,
          21.161152941762005,
          19.041412641062834,
          20.393971209584308,
          21.419783262482383,
          19.150585445343413,
          18.64636734665746,
          18.87630622863702,
          20.408129432593377,
          18.87220807510439,
          18.770379041509443,
          20.397388695554596,
          20.54483201902878,
          20.23829252841113,
          20.46695696131887,
          20.625740422199428,
          20.78268205285107,
          20.969090605518396,
          20.44823574018811,
          20.79158592350708,
          21.443240374567864,
          20.933548320061107,
          21.079749213673963,
          19.483413172124756,
          21.45221792316763,
          21.898098327261017,
          21.9488386212365,
          20.128777831017864,
          20.00476613616588,
          21.828009253116065,
          20.207075483474874,
          21.947356095333227,
          21.723645303785034,
          21.856982943077774,
          22.056955937244695,
          22.44581862363102,
          22.53564870795229,
          22.688492185071304,
          22.70855886655084,
          22.791022405845723,
          22.82381199811917,
          22.85250343685999,
          22.99968427072733,
          22.895739257354883,
          23.143628841036477,
          22.820345339197047,
          23.2461590618109,
          23.429535807899647,
          23.761182978314658,
          21.773580163931804,
          23.785214007304447,
          23.251216774259312,
          23.477899033411923,
          23.836943595129227,
          24.770882515532776,
          24.656196765121546,
          24.814980226002106,
          24.843671664742924,
          24.921121223704105,
          25.16561384103255,
          25.77236306059305,
          25.97778866191647,
          26.17260733222348,
          26.077988263291786,
          26.563026693616195,
          26.66464108758954,
          26.89773950732826,
          27.101898079197262,
          27.951268372074082,
          28.158951835583366,
          28.556012367917102,
          28.654948525894543,
          29.162485079607183,
          29.339493391738362,
          29.479339808514887,
          29.20891258042844,
          29.280635382684537,
          29.683210273714067
         ]
        }
       ],
       "layout": {
        "font": {
         "color": "RebeccaPurple",
         "family": "Courier New, monospace",
         "size": 18
        },
        "legend": {
         "title": {
          "text": "Models"
         }
        },
        "template": {
         "data": {
          "bar": [
           {
            "error_x": {
             "color": "#2a3f5f"
            },
            "error_y": {
             "color": "#2a3f5f"
            },
            "marker": {
             "line": {
              "color": "#E5ECF6",
              "width": 0.5
             },
             "pattern": {
              "fillmode": "overlay",
              "size": 10,
              "solidity": 0.2
             }
            },
            "type": "bar"
           }
          ],
          "barpolar": [
           {
            "marker": {
             "line": {
              "color": "#E5ECF6",
              "width": 0.5
             },
             "pattern": {
              "fillmode": "overlay",
              "size": 10,
              "solidity": 0.2
             }
            },
            "type": "barpolar"
           }
          ],
          "carpet": [
           {
            "aaxis": {
             "endlinecolor": "#2a3f5f",
             "gridcolor": "white",
             "linecolor": "white",
             "minorgridcolor": "white",
             "startlinecolor": "#2a3f5f"
            },
            "baxis": {
             "endlinecolor": "#2a3f5f",
             "gridcolor": "white",
             "linecolor": "white",
             "minorgridcolor": "white",
             "startlinecolor": "#2a3f5f"
            },
            "type": "carpet"
           }
          ],
          "choropleth": [
           {
            "colorbar": {
             "outlinewidth": 0,
             "ticks": ""
            },
            "type": "choropleth"
           }
          ],
          "contour": [
           {
            "colorbar": {
             "outlinewidth": 0,
             "ticks": ""
            },
            "colorscale": [
             [
              0,
              "#0d0887"
             ],
             [
              0.1111111111111111,
              "#46039f"
             ],
             [
              0.2222222222222222,
              "#7201a8"
             ],
             [
              0.3333333333333333,
              "#9c179e"
             ],
             [
              0.4444444444444444,
              "#bd3786"
             ],
             [
              0.5555555555555556,
              "#d8576b"
             ],
             [
              0.6666666666666666,
              "#ed7953"
             ],
             [
              0.7777777777777778,
              "#fb9f3a"
             ],
             [
              0.8888888888888888,
              "#fdca26"
             ],
             [
              1,
              "#f0f921"
             ]
            ],
            "type": "contour"
           }
          ],
          "contourcarpet": [
           {
            "colorbar": {
             "outlinewidth": 0,
             "ticks": ""
            },
            "type": "contourcarpet"
           }
          ],
          "heatmap": [
           {
            "colorbar": {
             "outlinewidth": 0,
             "ticks": ""
            },
            "colorscale": [
             [
              0,
              "#0d0887"
             ],
             [
              0.1111111111111111,
              "#46039f"
             ],
             [
              0.2222222222222222,
              "#7201a8"
             ],
             [
              0.3333333333333333,
              "#9c179e"
             ],
             [
              0.4444444444444444,
              "#bd3786"
             ],
             [
              0.5555555555555556,
              "#d8576b"
             ],
             [
              0.6666666666666666,
              "#ed7953"
             ],
             [
              0.7777777777777778,
              "#fb9f3a"
             ],
             [
              0.8888888888888888,
              "#fdca26"
             ],
             [
              1,
              "#f0f921"
             ]
            ],
            "type": "heatmap"
           }
          ],
          "heatmapgl": [
           {
            "colorbar": {
             "outlinewidth": 0,
             "ticks": ""
            },
            "colorscale": [
             [
              0,
              "#0d0887"
             ],
             [
              0.1111111111111111,
              "#46039f"
             ],
             [
              0.2222222222222222,
              "#7201a8"
             ],
             [
              0.3333333333333333,
              "#9c179e"
             ],
             [
              0.4444444444444444,
              "#bd3786"
             ],
             [
              0.5555555555555556,
              "#d8576b"
             ],
             [
              0.6666666666666666,
              "#ed7953"
             ],
             [
              0.7777777777777778,
              "#fb9f3a"
             ],
             [
              0.8888888888888888,
              "#fdca26"
             ],
             [
              1,
              "#f0f921"
             ]
            ],
            "type": "heatmapgl"
           }
          ],
          "histogram": [
           {
            "marker": {
             "pattern": {
              "fillmode": "overlay",
              "size": 10,
              "solidity": 0.2
             }
            },
            "type": "histogram"
           }
          ],
          "histogram2d": [
           {
            "colorbar": {
             "outlinewidth": 0,
             "ticks": ""
            },
            "colorscale": [
             [
              0,
              "#0d0887"
             ],
             [
              0.1111111111111111,
              "#46039f"
             ],
             [
              0.2222222222222222,
              "#7201a8"
             ],
             [
              0.3333333333333333,
              "#9c179e"
             ],
             [
              0.4444444444444444,
              "#bd3786"
             ],
             [
              0.5555555555555556,
              "#d8576b"
             ],
             [
              0.6666666666666666,
              "#ed7953"
             ],
             [
              0.7777777777777778,
              "#fb9f3a"
             ],
             [
              0.8888888888888888,
              "#fdca26"
             ],
             [
              1,
              "#f0f921"
             ]
            ],
            "type": "histogram2d"
           }
          ],
          "histogram2dcontour": [
           {
            "colorbar": {
             "outlinewidth": 0,
             "ticks": ""
            },
            "colorscale": [
             [
              0,
              "#0d0887"
             ],
             [
              0.1111111111111111,
              "#46039f"
             ],
             [
              0.2222222222222222,
              "#7201a8"
             ],
             [
              0.3333333333333333,
              "#9c179e"
             ],
             [
              0.4444444444444444,
              "#bd3786"
             ],
             [
              0.5555555555555556,
              "#d8576b"
             ],
             [
              0.6666666666666666,
              "#ed7953"
             ],
             [
              0.7777777777777778,
              "#fb9f3a"
             ],
             [
              0.8888888888888888,
              "#fdca26"
             ],
             [
              1,
              "#f0f921"
             ]
            ],
            "type": "histogram2dcontour"
           }
          ],
          "mesh3d": [
           {
            "colorbar": {
             "outlinewidth": 0,
             "ticks": ""
            },
            "type": "mesh3d"
           }
          ],
          "parcoords": [
           {
            "line": {
             "colorbar": {
              "outlinewidth": 0,
              "ticks": ""
             }
            },
            "type": "parcoords"
           }
          ],
          "pie": [
           {
            "automargin": true,
            "type": "pie"
           }
          ],
          "scatter": [
           {
            "fillpattern": {
             "fillmode": "overlay",
             "size": 10,
             "solidity": 0.2
            },
            "type": "scatter"
           }
          ],
          "scatter3d": [
           {
            "line": {
             "colorbar": {
              "outlinewidth": 0,
              "ticks": ""
             }
            },
            "marker": {
             "colorbar": {
              "outlinewidth": 0,
              "ticks": ""
             }
            },
            "type": "scatter3d"
           }
          ],
          "scattercarpet": [
           {
            "marker": {
             "colorbar": {
              "outlinewidth": 0,
              "ticks": ""
             }
            },
            "type": "scattercarpet"
           }
          ],
          "scattergeo": [
           {
            "marker": {
             "colorbar": {
              "outlinewidth": 0,
              "ticks": ""
             }
            },
            "type": "scattergeo"
           }
          ],
          "scattergl": [
           {
            "marker": {
             "colorbar": {
              "outlinewidth": 0,
              "ticks": ""
             }
            },
            "type": "scattergl"
           }
          ],
          "scattermapbox": [
           {
            "marker": {
             "colorbar": {
              "outlinewidth": 0,
              "ticks": ""
             }
            },
            "type": "scattermapbox"
           }
          ],
          "scatterpolar": [
           {
            "marker": {
             "colorbar": {
              "outlinewidth": 0,
              "ticks": ""
             }
            },
            "type": "scatterpolar"
           }
          ],
          "scatterpolargl": [
           {
            "marker": {
             "colorbar": {
              "outlinewidth": 0,
              "ticks": ""
             }
            },
            "type": "scatterpolargl"
           }
          ],
          "scatterternary": [
           {
            "marker": {
             "colorbar": {
              "outlinewidth": 0,
              "ticks": ""
             }
            },
            "type": "scatterternary"
           }
          ],
          "surface": [
           {
            "colorbar": {
             "outlinewidth": 0,
             "ticks": ""
            },
            "colorscale": [
             [
              0,
              "#0d0887"
             ],
             [
              0.1111111111111111,
              "#46039f"
             ],
             [
              0.2222222222222222,
              "#7201a8"
             ],
             [
              0.3333333333333333,
              "#9c179e"
             ],
             [
              0.4444444444444444,
              "#bd3786"
             ],
             [
              0.5555555555555556,
              "#d8576b"
             ],
             [
              0.6666666666666666,
              "#ed7953"
             ],
             [
              0.7777777777777778,
              "#fb9f3a"
             ],
             [
              0.8888888888888888,
              "#fdca26"
             ],
             [
              1,
              "#f0f921"
             ]
            ],
            "type": "surface"
           }
          ],
          "table": [
           {
            "cells": {
             "fill": {
              "color": "#EBF0F8"
             },
             "line": {
              "color": "white"
             }
            },
            "header": {
             "fill": {
              "color": "#C8D4E3"
             },
             "line": {
              "color": "white"
             }
            },
            "type": "table"
           }
          ]
         },
         "layout": {
          "annotationdefaults": {
           "arrowcolor": "#2a3f5f",
           "arrowhead": 0,
           "arrowwidth": 1
          },
          "autotypenumbers": "strict",
          "coloraxis": {
           "colorbar": {
            "outlinewidth": 0,
            "ticks": ""
           }
          },
          "colorscale": {
           "diverging": [
            [
             0,
             "#8e0152"
            ],
            [
             0.1,
             "#c51b7d"
            ],
            [
             0.2,
             "#de77ae"
            ],
            [
             0.3,
             "#f1b6da"
            ],
            [
             0.4,
             "#fde0ef"
            ],
            [
             0.5,
             "#f7f7f7"
            ],
            [
             0.6,
             "#e6f5d0"
            ],
            [
             0.7,
             "#b8e186"
            ],
            [
             0.8,
             "#7fbc41"
            ],
            [
             0.9,
             "#4d9221"
            ],
            [
             1,
             "#276419"
            ]
           ],
           "sequential": [
            [
             0,
             "#0d0887"
            ],
            [
             0.1111111111111111,
             "#46039f"
            ],
            [
             0.2222222222222222,
             "#7201a8"
            ],
            [
             0.3333333333333333,
             "#9c179e"
            ],
            [
             0.4444444444444444,
             "#bd3786"
            ],
            [
             0.5555555555555556,
             "#d8576b"
            ],
            [
             0.6666666666666666,
             "#ed7953"
            ],
            [
             0.7777777777777778,
             "#fb9f3a"
            ],
            [
             0.8888888888888888,
             "#fdca26"
            ],
            [
             1,
             "#f0f921"
            ]
           ],
           "sequentialminus": [
            [
             0,
             "#0d0887"
            ],
            [
             0.1111111111111111,
             "#46039f"
            ],
            [
             0.2222222222222222,
             "#7201a8"
            ],
            [
             0.3333333333333333,
             "#9c179e"
            ],
            [
             0.4444444444444444,
             "#bd3786"
            ],
            [
             0.5555555555555556,
             "#d8576b"
            ],
            [
             0.6666666666666666,
             "#ed7953"
            ],
            [
             0.7777777777777778,
             "#fb9f3a"
            ],
            [
             0.8888888888888888,
             "#fdca26"
            ],
            [
             1,
             "#f0f921"
            ]
           ]
          },
          "colorway": [
           "#636efa",
           "#EF553B",
           "#00cc96",
           "#ab63fa",
           "#FFA15A",
           "#19d3f3",
           "#FF6692",
           "#B6E880",
           "#FF97FF",
           "#FECB52"
          ],
          "font": {
           "color": "#2a3f5f"
          },
          "geo": {
           "bgcolor": "white",
           "lakecolor": "white",
           "landcolor": "#E5ECF6",
           "showlakes": true,
           "showland": true,
           "subunitcolor": "white"
          },
          "hoverlabel": {
           "align": "left"
          },
          "hovermode": "closest",
          "mapbox": {
           "style": "light"
          },
          "paper_bgcolor": "white",
          "plot_bgcolor": "#E5ECF6",
          "polar": {
           "angularaxis": {
            "gridcolor": "white",
            "linecolor": "white",
            "ticks": ""
           },
           "bgcolor": "#E5ECF6",
           "radialaxis": {
            "gridcolor": "white",
            "linecolor": "white",
            "ticks": ""
           }
          },
          "scene": {
           "xaxis": {
            "backgroundcolor": "#E5ECF6",
            "gridcolor": "white",
            "gridwidth": 2,
            "linecolor": "white",
            "showbackground": true,
            "ticks": "",
            "zerolinecolor": "white"
           },
           "yaxis": {
            "backgroundcolor": "#E5ECF6",
            "gridcolor": "white",
            "gridwidth": 2,
            "linecolor": "white",
            "showbackground": true,
            "ticks": "",
            "zerolinecolor": "white"
           },
           "zaxis": {
            "backgroundcolor": "#E5ECF6",
            "gridcolor": "white",
            "gridwidth": 2,
            "linecolor": "white",
            "showbackground": true,
            "ticks": "",
            "zerolinecolor": "white"
           }
          },
          "shapedefaults": {
           "line": {
            "color": "#2a3f5f"
           }
          },
          "ternary": {
           "aaxis": {
            "gridcolor": "white",
            "linecolor": "white",
            "ticks": ""
           },
           "baxis": {
            "gridcolor": "white",
            "linecolor": "white",
            "ticks": ""
           },
           "bgcolor": "#E5ECF6",
           "caxis": {
            "gridcolor": "white",
            "linecolor": "white",
            "ticks": ""
           }
          },
          "title": {
           "x": 0.05
          },
          "xaxis": {
           "automargin": true,
           "gridcolor": "white",
           "linecolor": "white",
           "ticks": "",
           "title": {
            "standoff": 15
           },
           "zerolinecolor": "white",
           "zerolinewidth": 2
          },
          "yaxis": {
           "automargin": true,
           "gridcolor": "white",
           "linecolor": "white",
           "ticks": "",
           "title": {
            "standoff": 15
           },
           "zerolinecolor": "white",
           "zerolinewidth": 2
          }
         }
        },
        "title": {
         "text": "Comparison of models for NG region"
        },
        "xaxis": {
         "title": {
          "text": "Time"
         }
        },
        "yaxis": {
         "title": {
          "text": "Temperature [°C]"
         }
        }
       }
      }
     },
     "metadata": {},
     "output_type": "display_data"
    }
   ],
   "source": [
    "an.compare_region_models('NG', all_models, test_data)"
   ]
  },
  {
   "cell_type": "markdown",
   "metadata": {},
   "source": [
    "At this points, it would be nice to provide actual predictions of future temperatures. However, I couldn't find freely available predictions of future measurements on ARSO. If I were to proceed with predictions despite this setback, I would have needed to opt for a different model type, likely a time series model such as ARIMA.\n",
    "\n",
    "Luckily you can still see the temperature predictions for each ragion by changing the parameter in `an.compare_region_models`  you will just get the forecast for the last 48 hours. :)"
   ]
  }
 ],
 "metadata": {
  "kernelspec": {
   "display_name": "venv",
   "language": "python",
   "name": "python3"
  },
  "language_info": {
   "codemirror_mode": {
    "name": "ipython",
    "version": 3
   },
   "file_extension": ".py",
   "mimetype": "text/x-python",
   "name": "python",
   "nbconvert_exporter": "python",
   "pygments_lexer": "ipython3",
   "version": "3.9.7"
  },
  "orig_nbformat": 4
 },
 "nbformat": 4,
 "nbformat_minor": 2
}
